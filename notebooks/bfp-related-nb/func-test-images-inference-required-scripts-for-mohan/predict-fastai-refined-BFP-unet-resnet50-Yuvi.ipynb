{
 "cells": [
  {
   "cell_type": "markdown",
   "metadata": {},
   "source": [
    "### Prediction - Unet with Resnet 34 model "
   ]
  },
  {
   "cell_type": "code",
   "execution_count": 2,
   "metadata": {},
   "outputs": [],
   "source": [
    "from fastai.vision import *\n",
    "from fastai.callbacks.hooks import *\n",
    "from fastai.utils.mem import *\n",
    "import os\n",
    "import matplotlib.pyplot as plt"
   ]
  },
  {
   "cell_type": "code",
   "execution_count": 3,
   "metadata": {},
   "outputs": [],
   "source": [
    "wd=1e-2"
   ]
  },
  {
   "cell_type": "code",
   "execution_count": 4,
   "metadata": {},
   "outputs": [],
   "source": [
    "def acc_camvid(input, target):\n",
    "    target = target.squeeze(1)\n",
    "    return (input.argmax(dim=1) == target).float().mean()"
   ]
  },
  {
   "cell_type": "code",
   "execution_count": 5,
   "metadata": {},
   "outputs": [],
   "source": [
    "path_img = Path('/home/ec2-user/SageMaker/data/footprint/9831-train-images/input/')\n",
    "path_lbl = Path('/home/ec2-user/SageMaker/data/footprint/9831-train-images/gt-binary/')\n",
    "\n",
    "img_names = get_image_files(path_img)\n",
    "lbl_names = get_image_files(path_lbl)\n",
    "\n",
    "get_y_fn = lambda x: path_lbl/f'{x.stem}_gt{x.suffix}'\n",
    "\n",
    "\n",
    "img_size = 512\n",
    "bs = 2\n",
    "codes = array(['None', 'Building'])\n",
    "\n",
    "src = (SegmentationItemList.from_folder(path_img)\n",
    "       .split_by_rand_pct()\n",
    "       .label_from_func(get_y_fn, classes=codes))\n",
    "\n",
    "data = (src.transform(get_transforms(), size=img_size, tfm_y=True)\n",
    "        .databunch(bs=bs)\n",
    "        .normalize(imagenet_stats))"
   ]
  },
  {
   "cell_type": "code",
   "execution_count": 6,
   "metadata": {
    "scrolled": true
   },
   "outputs": [
    {
     "data": {
      "text/plain": [
       "array(['None', 'Building'], dtype='<U8')"
      ]
     },
     "execution_count": 6,
     "metadata": {},
     "output_type": "execute_result"
    }
   ],
   "source": [
    "data.classes"
   ]
  },
  {
   "cell_type": "code",
   "execution_count": null,
   "metadata": {},
   "outputs": [],
   "source": [
    "learn = unet_learner(data, models.resnet50, metrics=acc_camvid, wd=wd)\n",
    "#learn.load('/home/ec2-user/SageMaker/resnet/weights/best-unet-resnet-entire-best-weights~9894-accuracy-70-epoch')\n",
    "learn.load('/home/ec2-user/SageMaker/lp02-team-l-model-Research/src/models/footprint/resnet-50/weights/entire-run-4-bestmodel_epoch_is_2_accuracy_is_0.9885603189468384')"
   ]
  },
  {
   "cell_type": "code",
   "execution_count": null,
   "metadata": {},
   "outputs": [],
   "source": [
    "# test_image_path = '/home/ec2-user/SageMaker/data/footprint/9831-train-images/input/'\n",
    "# predict_save_image_path = '/home/ec2-user/SageMaker/data/footprint/9831-images-rn50-predictions'\n",
    "\n",
    "test_image_path = '/home/ec2-user/SageMaker/notebooks/bfp-related-nb/test_rotate'\n",
    "predict_save_image_path = '/home/ec2-user/SageMaker//notebooks/bfp-related-nb/test_rotate_pred'"
   ]
  },
  {
   "cell_type": "markdown",
   "metadata": {},
   "source": [
    "### Get all the test images from folder"
   ]
  },
  {
   "cell_type": "code",
   "execution_count": null,
   "metadata": {},
   "outputs": [],
   "source": [
    "test_images = [os.path.join(test_image_path, img_name) for img_name in os.listdir(test_image_path) if os.path.isfile(os.path.join(test_image_path, img_name))]\n",
    "test_images"
   ]
  },
  {
   "cell_type": "markdown",
   "metadata": {},
   "source": [
    "### Prediction on Test Images"
   ]
  },
  {
   "cell_type": "code",
   "execution_count": null,
   "metadata": {
    "scrolled": true
   },
   "outputs": [],
   "source": [
    "for idx, test_image in enumerate(test_images, start = 1):\n",
    "    print('processing ', idx)\n",
    "    #Predict the Test Image\n",
    "    img = open_image(test_image)\n",
    "    prediction = learn.predict(img)\n",
    "#     plt.imshow(prediction)\n",
    "    pred = (prediction[1][0,:,:]).numpy()\n",
    "    _, img_name = os.path.split(test_image)\n",
    "    pred_img_name = os.path.splitext(img_name)[0] + '_pred.png'\n",
    "    plt.imsave(os.path.join(predict_save_image_path, pred_img_name), pred)\n",
    "\n",
    "    #Create a Mask Image based on the Prediction.\n",
    "#     mask = np.zeros([512,512,3], dtype=np.uint8)\n",
    "#     mask[pred == 1] = (0,255,0)    #Enable GREEN channel \n",
    "\n",
    "    #store the Mask Image\n",
    "#     _, img_name = os.path.split(test_image)\n",
    "#     pred_img_name = os.path.splitext(img_name)[0] + '_pred.png'\n",
    "#     plt.imsave(os.path.join(predict_save_image_path, pred_img_name), mask)\n",
    "    \n",
    "print('total predictions done : ', idx)"
   ]
  },
  {
   "cell_type": "code",
   "execution_count": null,
   "metadata": {},
   "outputs": [],
   "source": [
    "import os.path"
   ]
  },
  {
   "cell_type": "code",
   "execution_count": null,
   "metadata": {},
   "outputs": [],
   "source": [
    "path.ls('/home/ec2-user/SageMaker/data/footprint/sample-test-prediction-output')"
   ]
  },
  {
   "cell_type": "code",
   "execution_count": null,
   "metadata": {},
   "outputs": [],
   "source": [
    "from matplotlib.pyplot import imshow\n",
    "from PIL import Image\n",
    "import cv2 as cv\n",
    "import os"
   ]
  },
  {
   "cell_type": "code",
   "execution_count": null,
   "metadata": {},
   "outputs": [],
   "source": [
    "img_preds = [os.path.join(predict_save_image_path, img_pred) for img_pred in os.listdir(predict_save_image_path) if os.path.isfile(os.path.join(predict_save_image_path, img_pred))]\n",
    "img_preds"
   ]
  },
  {
   "cell_type": "code",
   "execution_count": null,
   "metadata": {
    "scrolled": true
   },
   "outputs": [],
   "source": [
    "# for img_p in img_preds:\n",
    "# str1 = os.path.join(predict_save_image_path, 'image_62_pred_binary.png')\n",
    "img = Image.open('/home/ec2-user/SageMaker/data/footprint/clear-roof-80-to-95-bucket-13-images/pred_output/image_62_pred_binary.png')\n",
    "imshow(np.asarray(img))"
   ]
  },
  {
   "cell_type": "code",
   "execution_count": null,
   "metadata": {},
   "outputs": [],
   "source": []
  },
  {
   "cell_type": "code",
   "execution_count": null,
   "metadata": {},
   "outputs": [],
   "source": [
    "img = cv.imread('/home/ec2-user/SageMaker/resnet/prediction-result/Image_185_pred.png')\n",
    "cv.imshow('mg',img)"
   ]
  },
  {
   "cell_type": "code",
   "execution_count": null,
   "metadata": {},
   "outputs": [],
   "source": [
    "#*****************Karthik additions**************************\n",
    "\n",
    "img = open_image(f'/home/ec2-user/SageMaker/data/footprint/clear-roof-80-to-95-bucket-13-images/pred_output/image_62_pred_binary.png')\n",
    "prediction = learn.predict(img)\n",
    "pred = (prediction[1][0,:,:]).numpy()\n",
    "#mask = np.zeros([512,512,3], dtype = uint8)\n",
    "mask = np.zeros([512,512,3], np.uint8)\n",
    "mask[pred == 1] = (0,255,0)\n",
    "plt.imshow(mask)\n",
    "# plt.imsave('/home/ec2-user/SageMaker/data/temp/'+f'image_{12}.png',mask)"
   ]
  },
  {
   "cell_type": "code",
   "execution_count": null,
   "metadata": {},
   "outputs": [],
   "source": [
    "from itertools import groupby, chain\n",
    "from PIL import Image\n",
    "# !pip install opencv-python\n",
    "# !pip install scikit-image\n",
    "import cv2\n",
    "import numpy as np\n",
    "\n",
    "import matplotlib.pyplot as plt\n",
    "\n",
    "from tqdm import tqdm\n",
    "from skimage import io, color\n",
    "from skimage import img_as_ubyte"
   ]
  },
  {
   "cell_type": "code",
   "execution_count": null,
   "metadata": {},
   "outputs": [],
   "source": [
    "#*****************Karthik additions**************************\n",
    "mask=cv2.imread(f'/home/ec2-user/SageMaker/data/temp/'+f'image_{12}.png',0)\n",
    "print(mask.shape)\n",
    "\n",
    "image=Image.open(f'/home/ec2-user/SageMaker/data/footprint/test-images-input/image_{12}.jpg')\n",
    "image=np.array(image)\n",
    "plt.imshow(image)\n",
    "x=find_centermost_mask(mask,2000)\n",
    "x= color.gray2rgb(x)\n",
    "x = img_as_ubyte(x)\n",
    "src1=image\n",
    "src1_mask=x\n",
    "mask_out=cv2.subtract(src1_mask,src1)\n",
    "mask_out=cv2.subtract(src1_mask,mask_out)\n",
    "plt.imshow(mask_out)"
   ]
  },
  {
   "cell_type": "code",
   "execution_count": null,
   "metadata": {},
   "outputs": [],
   "source": [
    "#*****************Karthik additions**************************\n",
    "def find_centermost_mask(input_mask, min_pixels):\n",
    "    \"\"\"\n",
    "    Take in a binary mask and return a mask of the same shape, with only the centermost contiguous portion.\n",
    "    If a mask contains no contours (objects), then just return it (it's all zeros anyway).\n",
    "    \"\"\"\n",
    "\n",
    "    # Get all the bits aligned in memory\n",
    "    input_mask = np.ascontiguousarray(input_mask, dtype=np.uint8)\n",
    "    contours, _ = cv2.findContours(input_mask, cv2.RETR_EXTERNAL, cv2.CHAIN_APPROX_SIMPLE)\n",
    "\n",
    "    if not contours or len(contours) == 1:\n",
    "        return input_mask\n",
    "\n",
    "    moments = [cv2.moments(contour) for contour in contours]\n",
    "    # (x, y) tuples of centroid locations for contours (that have area > 0)\n",
    "    centroids = [\n",
    "        (m['m10'] / m['m00'], m['m01'] / m['m00'])\n",
    "        if m['m00'] and m['m00'] >= min_pixels else (0, 0)\n",
    "        for m in moments\n",
    "    ]\n",
    "\n",
    "    if not centroids:\n",
    "        raise ValidationError(f'No identified footprint contours contain more than {min_pixels} pixels.')\n",
    "\n",
    "    # dimensions come 1-indexed, but array indicies are 0-indexed\n",
    "    center = [(dim - 1) / 2 for dim in input_mask.shape]\n",
    "\n",
    "    # Cacluate (Manhattan) distance from center of image\n",
    "    distances_from_center = [abs(x - center[0]) + abs(y - center[1]) for x, y in centroids]\n",
    "    centermost_contour = contours[distances_from_center.index(min(distances_from_center))]\n",
    "\n",
    "    output_mask = np.zeros(input_mask.shape)\n",
    "    cv2.fillPoly(output_mask, centermost_contour.transpose((1, 0, 2)), 1)\n",
    "\n",
    "    return output_mask"
   ]
  },
  {
   "cell_type": "markdown",
   "metadata": {},
   "source": [
    "### My Own test code - no need to use it"
   ]
  },
  {
   "cell_type": "code",
   "execution_count": null,
   "metadata": {},
   "outputs": [],
   "source": [
    "act_img = open_image(os.path.join(test_image_path, 'Image_185.jpg'))\n",
    "pred_img = open_image(os.path.join(predict_save_image_path, 'Image_185_pred_binary.png'))\n",
    "\n",
    "act_img.show(fig_size=(5,5))\n",
    "pred_img.show(fig_size=(5,5))"
   ]
  },
  {
   "cell_type": "code",
   "execution_count": null,
   "metadata": {},
   "outputs": [],
   "source": [
    "\n",
    "\n",
    "plt.figure(figsize=(10,10))\n",
    "\n",
    "plt.subplot(1,2,1)\n",
    "plt.imshow(act_img)\n",
    "\n",
    "plt.subplot(1,2,2)\n",
    "plt.imshow(pred_img)\n"
   ]
  },
  {
   "cell_type": "code",
   "execution_count": null,
   "metadata": {},
   "outputs": [],
   "source": []
  },
  {
   "cell_type": "code",
   "execution_count": null,
   "metadata": {},
   "outputs": [],
   "source": []
  },
  {
   "cell_type": "code",
   "execution_count": null,
   "metadata": {},
   "outputs": [],
   "source": []
  },
  {
   "cell_type": "code",
   "execution_count": null,
   "metadata": {},
   "outputs": [],
   "source": []
  },
  {
   "cell_type": "code",
   "execution_count": null,
   "metadata": {},
   "outputs": [],
   "source": []
  },
  {
   "cell_type": "code",
   "execution_count": null,
   "metadata": {},
   "outputs": [],
   "source": []
  },
  {
   "cell_type": "markdown",
   "metadata": {},
   "source": [
    "### Rough code - for my own purpose"
   ]
  },
  {
   "cell_type": "code",
   "execution_count": null,
   "metadata": {},
   "outputs": [],
   "source": [
    "display('/home/ec2-user/SageMaker/resnet/prediction-result/img-190-pred.png')"
   ]
  },
  {
   "cell_type": "code",
   "execution_count": null,
   "metadata": {},
   "outputs": [],
   "source": [
    "mask = np.zeros([512,512,3], dtype=np.uint8)\n",
    "mask = np.zeros([512,512,3])\n",
    "mask[pred == 1] = (0,255,0)\n",
    "plt.imsave()"
   ]
  },
  {
   "cell_type": "code",
   "execution_count": null,
   "metadata": {},
   "outputs": [],
   "source": []
  },
  {
   "cell_type": "code",
   "execution_count": null,
   "metadata": {},
   "outputs": [],
   "source": []
  },
  {
   "cell_type": "code",
   "execution_count": null,
   "metadata": {},
   "outputs": [],
   "source": [
    "mask.shape"
   ]
  },
  {
   "cell_type": "code",
   "execution_count": null,
   "metadata": {},
   "outputs": [],
   "source": [
    "pred.shape"
   ]
  },
  {
   "cell_type": "code",
   "execution_count": null,
   "metadata": {},
   "outputs": [],
   "source": [
    "rlt = pred[:,:]\n",
    "type(rlt)"
   ]
  },
  {
   "cell_type": "code",
   "execution_count": null,
   "metadata": {},
   "outputs": [],
   "source": [
    "mask[pred == 1] = (0, 255, 0)"
   ]
  },
  {
   "cell_type": "code",
   "execution_count": null,
   "metadata": {},
   "outputs": [],
   "source": [
    "plt.imshow(mask)"
   ]
  },
  {
   "cell_type": "code",
   "execution_count": null,
   "metadata": {},
   "outputs": [],
   "source": [
    "plt.imsave('/home/ec2-user/SageMaker/resnet/prediction-result/test.png', mask)"
   ]
  },
  {
   "cell_type": "code",
   "execution_count": null,
   "metadata": {},
   "outputs": [],
   "source": []
  }
 ],
 "metadata": {
  "kernelspec": {
   "display_name": "conda_fastai",
   "language": "python",
   "name": "conda_fastai"
  },
  "language_info": {
   "codemirror_mode": {
    "name": "ipython",
    "version": 3
   },
   "file_extension": ".py",
   "mimetype": "text/x-python",
   "name": "python",
   "nbconvert_exporter": "python",
   "pygments_lexer": "ipython3",
   "version": "3.7.0"
  }
 },
 "nbformat": 4,
 "nbformat_minor": 2
}
