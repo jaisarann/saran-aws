{
 "cells": [
  {
   "cell_type": "markdown",
   "metadata": {},
   "source": [
    "# Center Cut Label Image"
   ]
  },
  {
   "cell_type": "code",
   "execution_count": 1,
   "metadata": {},
   "outputs": [
    {
     "name": "stdout",
     "output_type": "stream",
     "text": [
      "Collecting scikit-image\n",
      "\u001b[?25l  Downloading https://files.pythonhosted.org/packages/dc/48/454bf836d302465475e02bc0468b879302145b07a005174c409a5b5869c7/scikit_image-0.16.2-cp37-cp37m-manylinux1_x86_64.whl (26.5MB)\n",
      "\u001b[K     |████████████████████████████████| 26.5MB 16.9MB/s eta 0:00:01\n",
      "\u001b[?25hRequirement already satisfied: matplotlib!=3.0.0,>=2.0.0 in /home/ec2-user/anaconda3/envs/fastai/lib/python3.7/site-packages (from scikit-image) (3.1.2)\n",
      "Requirement already satisfied: scipy>=0.19.0 in /home/ec2-user/anaconda3/envs/fastai/lib/python3.7/site-packages (from scikit-image) (1.3.2)\n",
      "Collecting PyWavelets>=0.4.0\n",
      "\u001b[?25l  Downloading https://files.pythonhosted.org/packages/62/bd/592c7242fdd1218a96431512e77265c50812315ef72570ace85e1cfae298/PyWavelets-1.1.1-cp37-cp37m-manylinux1_x86_64.whl (4.4MB)\n",
      "\u001b[K     |████████████████████████████████| 4.4MB 45.5MB/s eta 0:00:01\n",
      "\u001b[?25hRequirement already satisfied: pillow>=4.3.0 in /home/ec2-user/anaconda3/envs/fastai/lib/python3.7/site-packages (from scikit-image) (7.0.0)\n",
      "Collecting networkx>=2.0\n",
      "\u001b[?25l  Downloading https://files.pythonhosted.org/packages/41/8f/dd6a8e85946def36e4f2c69c84219af0fa5e832b018c970e92f2ad337e45/networkx-2.4-py3-none-any.whl (1.6MB)\n",
      "\u001b[K     |████████████████████████████████| 1.6MB 46.8MB/s eta 0:00:01\n",
      "\u001b[?25hCollecting imageio>=2.3.0\n",
      "\u001b[?25l  Downloading https://files.pythonhosted.org/packages/1a/de/f7f985018f462ceeffada7f6e609919fbcc934acd9301929cba14bc2c24a/imageio-2.6.1-py3-none-any.whl (3.3MB)\n",
      "\u001b[K     |████████████████████████████████| 3.3MB 44.0MB/s eta 0:00:01\n",
      "\u001b[?25hRequirement already satisfied: python-dateutil>=2.1 in /home/ec2-user/anaconda3/envs/fastai/lib/python3.7/site-packages (from matplotlib!=3.0.0,>=2.0.0->scikit-image) (2.8.1)\n",
      "Requirement already satisfied: pyparsing!=2.0.4,!=2.1.2,!=2.1.6,>=2.0.1 in /home/ec2-user/anaconda3/envs/fastai/lib/python3.7/site-packages (from matplotlib!=3.0.0,>=2.0.0->scikit-image) (2.4.6)\n",
      "Requirement already satisfied: numpy>=1.11 in /home/ec2-user/anaconda3/envs/fastai/lib/python3.7/site-packages (from matplotlib!=3.0.0,>=2.0.0->scikit-image) (1.18.1)\n",
      "Requirement already satisfied: cycler>=0.10 in /home/ec2-user/anaconda3/envs/fastai/lib/python3.7/site-packages (from matplotlib!=3.0.0,>=2.0.0->scikit-image) (0.10.0)\n",
      "Requirement already satisfied: kiwisolver>=1.0.1 in /home/ec2-user/anaconda3/envs/fastai/lib/python3.7/site-packages (from matplotlib!=3.0.0,>=2.0.0->scikit-image) (1.1.0)\n",
      "Requirement already satisfied: decorator>=4.3.0 in /home/ec2-user/anaconda3/envs/fastai/lib/python3.7/site-packages (from networkx>=2.0->scikit-image) (4.4.1)\n",
      "Requirement already satisfied: six>=1.5 in /home/ec2-user/anaconda3/envs/fastai/lib/python3.7/site-packages (from python-dateutil>=2.1->matplotlib!=3.0.0,>=2.0.0->scikit-image) (1.13.0)\n",
      "Requirement already satisfied: setuptools in /home/ec2-user/anaconda3/envs/fastai/lib/python3.7/site-packages (from kiwisolver>=1.0.1->matplotlib!=3.0.0,>=2.0.0->scikit-image) (44.0.0.post20200106)\n",
      "Installing collected packages: PyWavelets, networkx, imageio, scikit-image\n",
      "Successfully installed PyWavelets-1.1.1 imageio-2.6.1 networkx-2.4 scikit-image-0.16.2\n"
     ]
    }
   ],
   "source": [
    "!pip install scikit-image"
   ]
  },
  {
   "cell_type": "code",
   "execution_count": 2,
   "metadata": {},
   "outputs": [],
   "source": [
    "from itertools import groupby, chain\n",
    "from PIL import Image\n",
    "import matplotlib.pyplot as plt\n",
    "import cv2 \n",
    "import numpy as np\n",
    "from skimage import io, color\n",
    "import sys\n",
    "from skimage import img_as_ubyte\n",
    "import skimage.io as io\n",
    "import os\n",
    "np.set_printoptions(threshold=sys.maxsize)"
   ]
  },
  {
   "cell_type": "markdown",
   "metadata": {},
   "source": [
    "### Commong Utility Functions"
   ]
  },
  {
   "cell_type": "code",
   "execution_count": 3,
   "metadata": {},
   "outputs": [],
   "source": [
    "#from utilities.model_errors import ValidationError\n",
    "def find_centermost_mask(input_mask, min_pixels):\n",
    "    \"\"\"\n",
    "    Take in a binary mask and return a mask of the same shape, with only the centermost contiguous portion.\n",
    "    If a mask contains no contours (objects), then just return it (it's all zeros anyway).\n",
    "    \"\"\"\n",
    "\n",
    "    # Get all the bits aligned in memory\n",
    "    input_mask = np.ascontiguousarray(input_mask, dtype=np.uint8)\n",
    "    contours, _ = cv2.findContours(input_mask, cv2.RETR_EXTERNAL, cv2.CHAIN_APPROX_SIMPLE)\n",
    "\n",
    "    if not contours or len(contours) == 1:\n",
    "        return input_mask\n",
    "\n",
    "    moments = [cv2.moments(contour) for contour in contours]\n",
    "    # (x, y) tuples of centroid locations for contours (that have area > 0)\n",
    "    centroids = [\n",
    "        (m['m10'] / m['m00'], m['m01'] / m['m00'])\n",
    "        if m['m00'] and m['m00'] >= min_pixels else (0, 0)\n",
    "        for m in moments\n",
    "    ]\n",
    "\n",
    "    if not centroids:\n",
    "        raise ValidationError(f'No identified footprint contours contain more than {min_pixels} pixels.')\n",
    "\n",
    "    # dimensions come 1-indexed, but array indicies are 0-indexed\n",
    "    center = [(dim - 1) / 2 for dim in input_mask.shape]\n",
    "\n",
    "    # Cacluate (Manhattan) distance from center of image\n",
    "    distances_from_center = [abs(x - center[0]) + abs(y - center[1]) for x, y in centroids]\n",
    "    centermost_contour = contours[distances_from_center.index(min(distances_from_center))]\n",
    "\n",
    "    output_mask = np.zeros(input_mask.shape)\n",
    "    cv2.fillPoly(output_mask, centermost_contour.transpose((1, 0, 2)), 1)\n",
    "\n",
    "    return output_mask"
   ]
  },
  {
   "cell_type": "markdown",
   "metadata": {},
   "source": [
    "### Center cut the Prediction Image and Center Cut the Original Image"
   ]
  },
  {
   "cell_type": "code",
   "execution_count": 4,
   "metadata": {},
   "outputs": [],
   "source": [
    "pred_img_path = '/home/ec2-user/SageMaker/data/footprint/mohan-func-test-run-data/test-rn50-out'\n",
    "pred_cc_save_path = '/home/ec2-user/SageMaker/data/footprint/mohan-func-test-run-data/test-rn50-out-cc'\n",
    "\n",
    "# label_img_path = '/home/ec2-user/SageMaker/data/footprint/190-test-images-label'"
   ]
  },
  {
   "cell_type": "code",
   "execution_count": 6,
   "metadata": {},
   "outputs": [
    {
     "data": {
      "text/plain": [
       "(['image_207_pred_binary.png', 'image_100_pred_binary.png'], 2)"
      ]
     },
     "execution_count": 6,
     "metadata": {},
     "output_type": "execute_result"
    }
   ],
   "source": [
    "lst_pred_imgs = [img for img in os.listdir(pred_img_path) if os.path.isfile(os.path.join(pred_img_path, img))]\n",
    "lst_pred_imgs[:5], len(lst_pred_imgs)"
   ]
  },
  {
   "cell_type": "code",
   "execution_count": 16,
   "metadata": {
    "scrolled": false
   },
   "outputs": [
    {
     "name": "stdout",
     "output_type": "stream",
     "text": [
      "processing : 1, Image Name : image_207_pred_binary.png\n",
      "(array([ 30, 215], dtype=uint8), array([201712,  60432]))\n",
      "(512, 512)\n"
     ]
    },
    {
     "data": {
      "image/png": "[encoded data removed]",
      "text/plain": [
       "<Figure size 432x288 with 1 Axes>"
      ]
     },
     "metadata": {
      "needs_background": "light"
     },
     "output_type": "display_data"
    },
    {
     "name": "stdout",
     "output_type": "stream",
     "text": [
      "(array([  0, 215], dtype=uint8), array([201712,  60432]))\n"
     ]
    },
    {
     "data": {
      "image/png": "[encoded data removed]",
      "text/plain": [
       "<Figure size 432x288 with 1 Axes>"
      ]
     },
     "metadata": {
      "needs_background": "light"
     },
     "output_type": "display_data"
    },
    {
     "name": "stdout",
     "output_type": "stream",
     "text": [
      "(array([-41,   0], dtype=int8), array([ 60432, 201712]))\n"
     ]
    },
    {
     "data": {
      "image/png": "[encoded data removed]",
      "text/plain": [
       "<Figure size 432x288 with 1 Axes>"
      ]
     },
     "metadata": {
      "needs_background": "light"
     },
     "output_type": "display_data"
    },
    {
     "name": "stdout",
     "output_type": "stream",
     "text": [
      "processing : 2, Image Name : image_100_pred_binary.png\n",
      "(array([ 30, 215], dtype=uint8), array([158944, 103200]))\n",
      "(512, 512)\n"
     ]
    },
    {
     "data": {
      "image/png": "[encoded data removed]",
      "text/plain": [
       "<Figure size 432x288 with 1 Axes>"
      ]
     },
     "metadata": {
      "needs_background": "light"
     },
     "output_type": "display_data"
    },
    {
     "name": "stdout",
     "output_type": "stream",
     "text": [
      "(array([  0, 215], dtype=uint8), array([158944, 103200]))\n"
     ]
    },
    {
     "data": {
      "image/png": "[encoded data removed]",
      "text/plain": [
       "<Figure size 432x288 with 1 Axes>"
      ]
     },
     "metadata": {
      "needs_background": "light"
     },
     "output_type": "display_data"
    },
    {
     "name": "stdout",
     "output_type": "stream",
     "text": [
      "(array([0, 1], dtype=int8), array([162596,  99548]))\n"
     ]
    },
    {
     "data": {
      "image/png": "[encoded data removed]",
      "text/plain": [
       "<Figure size 432x288 with 1 Axes>"
      ]
     },
     "metadata": {
      "needs_background": "light"
     },
     "output_type": "display_data"
    }
   ],
   "source": [
    "for idx, pred_img_name in enumerate(lst_pred_imgs, start=1):\n",
    "    print('processing : {}, Image Name : {}'.format(idx, pred_img_name))\n",
    "    pred_img_path_with_filename = os.path.join(pred_img_path, pred_img_name)\n",
    "    pred_gray = cv2.imread(pred_img_path_with_filename)\n",
    "    pred_gray = cv2.cvtColor(pred_gray, cv2.COLOR_BGR2GRAY)\n",
    "    \n",
    "    print(np.unique(pred_gray,  return_counts=True))\n",
    "    print(pred_gray.shape)\n",
    "    plt.imshow(pred_gray)\n",
    "    plt.show()\n",
    "\n",
    "    pred_gray[pred_gray < 31] = 0\n",
    "    \n",
    "    print(np.unique(pred_gray, return_counts=True))\n",
    "    plt.imshow(pred_gray)\n",
    "    plt.show()\n",
    "    \n",
    "    pred_cc_img_mask=find_centermost_mask(pred_gray,2000)\n",
    "    pred_cc_img_mask = pred_cc_img_mask.astype(np.byte)\n",
    "#     io.imsave(os.path.join(pred_cc_save_path, lbl_img_name.replace('_pred_binary', '_cc')), pred_cc_img_mask)\n",
    "    print(np.unique(pred_cc_img_mask, return_counts=True))\n",
    "    plt.imshow(pred_cc_img_mask)\n",
    "    plt.show()"
   ]
  },
  {
   "cell_type": "code",
   "execution_count": null,
   "metadata": {},
   "outputs": [],
   "source": []
  },
  {
   "cell_type": "code",
   "execution_count": null,
   "metadata": {},
   "outputs": [],
   "source": []
  }
 ],
 "metadata": {
  "kernelspec": {
   "display_name": "conda_fastai",
   "language": "python",
   "name": "conda_fastai"
  },
  "language_info": {
   "codemirror_mode": {
    "name": "ipython",
    "version": 3
   },
   "file_extension": ".py",
   "mimetype": "text/x-python",
   "name": "python",
   "nbconvert_exporter": "python",
   "pygments_lexer": "ipython3",
   "version": "3.7.0"
  }
 },
 "nbformat": 4,
 "nbformat_minor": 2
}
