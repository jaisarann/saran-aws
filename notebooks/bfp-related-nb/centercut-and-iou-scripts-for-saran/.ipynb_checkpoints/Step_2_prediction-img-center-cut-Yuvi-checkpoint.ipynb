{
 "cells": [
  {
   "cell_type": "markdown",
   "metadata": {},
   "source": [
    "# Center Cut Prediction Image"
   ]
  },
  {
   "cell_type": "code",
   "execution_count": 1,
   "metadata": {},
   "outputs": [],
   "source": [
    "from itertools import groupby, chain\n",
    "from PIL import Image\n",
    "import matplotlib.pyplot as plt\n",
    "import cv2 \n",
    "import numpy as np\n",
    "from skimage import io, color\n",
    "import sys\n",
    "from skimage import img_as_ubyte\n",
    "import skimage.io as io\n",
    "import os\n",
    "np.set_printoptions(threshold=sys.maxsize)"
   ]
  },
  {
   "cell_type": "code",
   "execution_count": 2,
   "metadata": {},
   "outputs": [],
   "source": [
    "# !pip install scikit-image"
   ]
  },
  {
   "cell_type": "markdown",
   "metadata": {},
   "source": [
    "### Commong Utility Functions"
   ]
  },
  {
   "cell_type": "code",
   "execution_count": 3,
   "metadata": {},
   "outputs": [],
   "source": [
    "def load_image(path, pad=True):\n",
    "    \"\"\"\n",
    "    Load image from a given path and pad it on the sides, so that eash side is divisible by 32 (newtwork requirement)\n",
    "    \n",
    "    if pad = True:\n",
    "        returns image as numpy.array, tuple with padding in pixels as(x_min_pad, y_min_pad, x_max_pad, y_max_pad)\n",
    "    else:\n",
    "        returns image as numpy.array\n",
    "    \"\"\"\n",
    "    img = cv2.imread(str(path))\n",
    "    img = cv2.cvtColor(img, cv2.COLOR_BGR2RGB)\n",
    "    \n",
    "    if not pad:\n",
    "        return img\n",
    "    \n",
    "    height, width, _ = img.shape\n",
    "    \n",
    "    if height % 32 == 0:\n",
    "        y_min_pad = 0\n",
    "        y_max_pad = 0\n",
    "    else:\n",
    "        y_pad = 32 - height % 32\n",
    "        y_min_pad = int(y_pad / 2)\n",
    "        y_max_pad = y_pad - y_min_pad\n",
    "        \n",
    "    if width % 32 == 0:\n",
    "        x_min_pad = 0\n",
    "        x_max_pad = 0\n",
    "    else:\n",
    "        x_pad = 32 - width % 32\n",
    "        x_min_pad = int(x_pad / 2)\n",
    "        x_max_pad = x_pad - x_min_pad\n",
    "    \n",
    "    img = cv2.copyMakeBorder(img, y_min_pad, y_max_pad, x_min_pad, x_max_pad, cv2.BORDER_REFLECT_101)\n",
    "\n",
    "    return img, (x_min_pad, y_min_pad, x_max_pad, y_max_pad)"
   ]
  },
  {
   "cell_type": "code",
   "execution_count": 4,
   "metadata": {},
   "outputs": [],
   "source": [
    "\n",
    "\n",
    "# #from utilities.model_errors import ValidationError\n",
    "\n",
    "\n",
    "# def find_centermost_mask(input_mask, min_pixels):\n",
    "#     \"\"\"\n",
    "#     Take in a binary mask and return a mask of the same shape, with only the centermost contiguous portion.\n",
    "#     If a mask contains no contours (objects), then just return it (it's all zeros anyway).\n",
    "#     \"\"\"\n",
    "\n",
    "#     # Get all the bits aligned in memory\n",
    "#     input_mask = np.ascontiguousarray(input_mask, dtype=np.uint8)\n",
    "#     contours, _ = cv2.findContours(input_mask, cv2.RETR_EXTERNAL, cv2.CHAIN_APPROX_SIMPLE)\n",
    "\n",
    "#     print('no. of contours : ', len(contours))\n",
    "    \n",
    "#     if not contours or len(contours) == 1:\n",
    "#         return input_mask\n",
    "\n",
    "#     moments = [cv2.moments(contour) for contour in contours]\n",
    "#     # (x, y) tuples of centroid locations for contours (that have area > 0)\n",
    "#     centroids = [\n",
    "#         (m['m10'] / m['m00'], m['m01'] / m['m00'])\n",
    "#         if m['m00'] and m['m00'] >= min_pixels else (0, 0)\n",
    "#         for m in moments\n",
    "#     ]\n",
    "\n",
    "#     if not centroids:\n",
    "#         raise ValidationError(f'No identified footprint contours contain more than {min_pixels} pixels.')\n",
    "\n",
    "#     # dimensions come 1-indexed, but array indicies are 0-indexed\n",
    "#     center = [(dim - 1) / 2 for dim in input_mask.shape]\n",
    "\n",
    "#     # Cacluate (Manhattan) distance from center of image\n",
    "#     distances_from_center = [abs(x - center[0]) + abs(y - center[1]) for x, y in centroids]\n",
    "#     centermost_contour = contours[distances_from_center.index(min(distances_from_center))]\n",
    "\n",
    "#     output_mask = np.zeros(input_mask.shape)\n",
    "#     cv2.fillPoly(output_mask, centermost_contour.transpose((1, 0, 2)), 1)\n",
    "\n",
    "#     return output_mask"
   ]
  },
  {
   "cell_type": "code",
   "execution_count": 5,
   "metadata": {},
   "outputs": [],
   "source": [
    "def find_centermost_mask(input_mask, min_pixels):\n",
    "    \"\"\"\n",
    "    Take in a binary mask and return a mask of the same shape, with only the centermost contiguous portion.\n",
    "    If a mask contains no contours (objects), then just return it (it's all zeros anyway).\n",
    "    \"\"\"\n",
    "\n",
    "    # Get all the bits aligned in memory\n",
    "    input_mask = np.ascontiguousarray(input_mask, dtype=np.uint8)\n",
    "    print(input_mask.shape, np.sum(input_mask))\n",
    "    contours, _ = cv2.findContours(input_mask, cv2.RETR_EXTERNAL, cv2.CHAIN_APPROX_SIMPLE)\n",
    "    print(len(contours))\n",
    "\n",
    "    if not contours or len(contours) == 1:\n",
    "        return input_mask\n",
    "\n",
    "    moments = [cv2.moments(contour) for contour in contours]\n",
    "    # (x, y) tuples of centroid locations for contours (that have area > 0)\n",
    "    centroids = [\n",
    "        (m['m10'] / m['m00'], m['m01'] / m['m00'])\n",
    "        if m['m00'] and m['m00'] >= min_pixels else (0, 0)\n",
    "        for m in moments\n",
    "    ]\n",
    "\n",
    "    if not centroids:\n",
    "        raise ValidationError(f'No identified footprint contours contain more than {min_pixels} pixels.')\n",
    "\n",
    "    # dimensions come 1-indexed, but array indicies are 0-indexed\n",
    "    center = [(dim - 1) / 2 for dim in input_mask.shape]\n",
    "\n",
    "    # Cacluate (Manhattan) distance from center of image\n",
    "    distances_from_center = [abs(x - center[0]) + abs(y - center[1]) for x, y in centroids]\n",
    "    centermost_contour = contours[distances_from_center.index(min(distances_from_center))]\n",
    "\n",
    "    output_mask = np.zeros(input_mask.shape)\n",
    "    cv2.fillPoly(output_mask, centermost_contour.transpose((1, 0, 2)), 1)\n",
    "\n",
    "    return output_mask"
   ]
  },
  {
   "cell_type": "markdown",
   "metadata": {},
   "source": [
    "### Center cut the Prediction Image and Center Cut the Original Image"
   ]
  },
  {
   "cell_type": "code",
   "execution_count": 6,
   "metadata": {},
   "outputs": [],
   "source": [
    "pred_binary_img_path = '/home/ec2-user/SageMaker/data/footprint/mohan-func-test-run-data/run-1/resnet-50-out'\n",
    "pred_cc_save_path = '/home/ec2-user/SageMaker/data/footprint/mohan-func-test-run-data/run-1/rn50-cc-analysis'\n",
    "\n",
    "# pred_binary_img_path = '/home/ec2-user/SageMaker/data/footprint/190-test-images-pred-analysis-rn50-9-jan-2k20/190-test-images-pred-ouput-RGB-rn50-3-jan-2k20'\n",
    "# pred_cc_save_path = '/home/ec2-user/SageMaker/data/footprint/190-test-images-pred-analysis-rn50-9-jan-2k20/190-test-pred-images-cc'"
   ]
  },
  {
   "cell_type": "code",
   "execution_count": 7,
   "metadata": {},
   "outputs": [
    {
     "data": {
      "text/plain": [
       "(['image_427_pred_binary.png',\n",
       "  'image_489_pred_binary.png',\n",
       "  'image_99_pred_binary.png',\n",
       "  'image_40_pred_binary.png',\n",
       "  'image_359_pred_binary.png'],\n",
       " 627)"
      ]
     },
     "execution_count": 7,
     "metadata": {},
     "output_type": "execute_result"
    }
   ],
   "source": [
    "lst_pred_imgs = [img for img in os.listdir(pred_binary_img_path) if os.path.isfile(os.path.join(pred_binary_img_path, img))]\n",
    "lst_pred_imgs[:5], len(lst_pred_imgs)"
   ]
  },
  {
   "cell_type": "code",
   "execution_count": 8,
   "metadata": {},
   "outputs": [],
   "source": [
    "def generate_mask(pred_prob, threshold=0.6):\n",
    "    '''\n",
    "    generate the mask if the probability is 60%\n",
    "    '''\n",
    "    mask = pred_prob[0, :, :, :]\n",
    "    pred_mask = np.argmax(mask.transpose((1, 2, 0)), axis=-1)\n",
    "    return pred_mask.astype(np.uint8)"
   ]
  },
  {
   "cell_type": "code",
   "execution_count": 9,
   "metadata": {},
   "outputs": [
    {
     "data": {
      "text/plain": [
       "['image_583_pred_binary.png',\n",
       " 'image_493_pred_binary.png',\n",
       " 'image_131_pred_binary.png']"
      ]
     },
     "execution_count": 9,
     "metadata": {},
     "output_type": "execute_result"
    }
   ],
   "source": [
    "lst_pred_imgs[7:10]"
   ]
  },
  {
   "cell_type": "code",
   "execution_count": null,
   "metadata": {
    "scrolled": false
   },
   "outputs": [],
   "source": [
    "# for idx, pred_img_name in enumerate(lst_pred_imgs[7:10], start=1):\n",
    "    \n",
    "#     print('processing : ', idx)\n",
    "#     pred_img_path_with_filename = os.path.join(pred_binary_img_path, pred_img_name)\n",
    "#     pred_img = cv2.imread(pred_img_path_with_filename)\n",
    "#     pred_gray = cv2.cvtColor(pred_img, cv2.COLOR_BGR2GRAY)\n",
    "#     print(np.unique(pred_gray))\n",
    "#     plt.imshow(pred_gray)\n",
    "#     plt.show()\n",
    "    \n",
    "# #     pred_gray[pred_gray > 30] = 1\n",
    "# #     pred_gray[pred_gray < 30] = 0\n",
    "    \n",
    "# #----------------------    \n",
    "#     unique_pixel_values = np.unique(pred_gray)\n",
    "#     if(len(unique_pixel_values) > 1):  # to handle no building scenario returns one pixel value that is '0'\n",
    "#         _, thresh = cv2.threshold(pred_gray, unique_pixel_values[0] + 1, 255, 0)\n",
    "#         print(np.unique(thresh))\n",
    "#         pred_cc_img_mask=find_centermost_mask(thresh,2000)\n",
    "#     else:\n",
    "#         pred_cc_img_mask = np.zeros(pred_gray.shape)\n",
    "# #     print(np.unique(lbl_cc_img_mask))\n",
    "# #     print(lbl_cc_img_mask.shape)\n",
    "# #----------------------    \n",
    "    \n",
    "# #     pred_cc_img_mask=find_centermost_mask(pred_gray,10000)\n",
    "#     print('cc unique', np.unique(pred_cc_img_mask))\n",
    "# #     print(type(pred_cc_img_mask))\n",
    "# #     print(pred_cc_img_mask.dtype)\n",
    "#     pred_cc_img_mask = pred_cc_img_mask.astype(np.byte)\n",
    "#     pred_cc_img_mask = img_as_ubyte(pred_cc_img_mask)\n",
    "# #     print(pred_cc_img_mask.dtype)\n",
    "# #     print(np.unique(pred_cc_img_mask))\n",
    "#     print('cc shape', pred_cc_img_mask.shape)\n",
    "#     plt.imshow(pred_cc_img_mask)\n",
    "#     plt.show()\n",
    "# #     io.imsave(os.path.join(pred_cc_save_path, pred_img_name.replace('_pred_binary.png', '_pred_cc_binary.tif')), pred_cc_img_mask)\n",
    "#     print('-' * 30)"
   ]
  },
  {
   "cell_type": "markdown",
   "metadata": {},
   "source": [
    "### Modified "
   ]
  },
  {
   "cell_type": "code",
   "execution_count": null,
   "metadata": {
    "scrolled": false
   },
   "outputs": [],
   "source": [
    "for idx, pred_img_name in enumerate(lst_pred_imgs[7:10], start=1):\n",
    "    \n",
    "    print('processing : ', idx)\n",
    "    pred_img_path_with_filename = os.path.join(pred_binary_img_path, pred_img_name)\n",
    "    pred_img = cv2.imread(pred_img_path_with_filename)\n",
    "#     pred_gray = cv2.cvtColor(pred_img, cv2.COLOR_BGR2GRAY)\n",
    "    pred_gray = io.imread(pred_img, cv2.COLOR_BGR2GRAY)\n",
    "\n",
    "    print(np.unique(pred_gray))\n",
    "    plt.imshow(pred_gray)\n",
    "    plt.show()\n",
    "\n",
    "#----------------------    \n",
    "    unique_pixel_values = np.unique(pred_gray)\n",
    "    if(len(unique_pixel_values) > 1):  # to handle no building scenario returns one pixel value that is '0'\n",
    "        _, thresh = cv2.threshold(pred_gray, unique_pixel_values[0] + 1, 255, 0)\n",
    "        print(np.unique(thresh))\n",
    "        pred_cc_img_mask=find_centermost_mask(thresh,2000)\n",
    "    else:\n",
    "        pred_cc_img_mask = np.zeros(pred_gray.shape)\n",
    "#     print(np.unique(lbl_cc_img_mask))\n",
    "#     print(lbl_cc_img_mask.shape)\n",
    "#----------------------    \n",
    "    \n",
    "#     pred_cc_img_mask=find_centermost_mask(pred_gray,10000)\n",
    "    print('cc unique', np.unique(pred_cc_img_mask))\n",
    "#     print(type(pred_cc_img_mask))\n",
    "#     print(pred_cc_img_mask.dtype)\n",
    "    pred_cc_img_mask = pred_cc_img_mask.astype(np.byte)\n",
    "    pred_cc_img_mask = img_as_ubyte(pred_cc_img_mask)\n",
    "#     print(pred_cc_img_mask.dtype)\n",
    "#     print(np.unique(pred_cc_img_mask))\n",
    "    print('cc shape', pred_cc_img_mask.shape)\n",
    "    plt.imshow(pred_cc_img_mask)\n",
    "    plt.show()\n",
    "#     io.imsave(os.path.join(pred_cc_save_path, pred_img_name.replace('_pred_binary.png', '_pred_cc_binary.tif')), pred_cc_img_mask)\n",
    "    print('-' * 30)"
   ]
  },
  {
   "cell_type": "code",
   "execution_count": 10,
   "metadata": {},
   "outputs": [],
   "source": [
    "pred_gray = io.imread('/home/ec2-user/SageMaker/data/footprint/mohan-func-test-run-data/run-1/resnet-50-out/image_493_pred_binary.png')[:, :, 0]"
   ]
  },
  {
   "cell_type": "code",
   "execution_count": 11,
   "metadata": {},
   "outputs": [
    {
     "data": {
      "text/plain": [
       "(512, 512)"
      ]
     },
     "execution_count": 11,
     "metadata": {},
     "output_type": "execute_result"
    }
   ],
   "source": [
    "pred_gray.shape"
   ]
  },
  {
   "cell_type": "code",
   "execution_count": 12,
   "metadata": {},
   "outputs": [
    {
     "data": {
      "text/plain": [
       "array([ 68, 253], dtype=uint8)"
      ]
     },
     "execution_count": 12,
     "metadata": {},
     "output_type": "execute_result"
    }
   ],
   "source": [
    "np.unique(pred_gray)"
   ]
  },
  {
   "cell_type": "code",
   "execution_count": 13,
   "metadata": {},
   "outputs": [],
   "source": [
    "pred_gray[pred_gray == 68] = 0\n",
    "pred_gray[pred_gray == 253] = 1"
   ]
  },
  {
   "cell_type": "code",
   "execution_count": 14,
   "metadata": {},
   "outputs": [
    {
     "data": {
      "text/plain": [
       "<matplotlib.image.AxesImage at 0x7f8c5e8c54a8>"
      ]
     },
     "execution_count": 14,
     "metadata": {},
     "output_type": "execute_result"
    },
    {
     "data": {
      "image/png": "[encoded data removed]",
      "text/plain": [
       "<Figure size 432x288 with 1 Axes>"
      ]
     },
     "metadata": {
      "needs_background": "light"
     },
     "output_type": "display_data"
    }
   ],
   "source": [
    "plt.imshow(pred_gray, cmap='gray')"
   ]
  },
  {
   "cell_type": "code",
   "execution_count": null,
   "metadata": {},
   "outputs": [],
   "source": [
    "unique_pixel_values = np.unique(pred_gray)\n",
    "_, thresh = cv2.threshold(pred_gray, unique_pixel_values[0] + 1, 255, 0)"
   ]
  },
  {
   "cell_type": "code",
   "execution_count": 16,
   "metadata": {},
   "outputs": [
    {
     "data": {
      "text/plain": [
       "array([0, 1], dtype=uint8)"
      ]
     },
     "execution_count": 16,
     "metadata": {},
     "output_type": "execute_result"
    }
   ],
   "source": [
    "np.unique(pred_gray)"
   ]
  },
  {
   "cell_type": "code",
   "execution_count": 17,
   "metadata": {},
   "outputs": [
    {
     "name": "stdout",
     "output_type": "stream",
     "text": [
      "(512, 512) 74863\n",
      "1\n"
     ]
    }
   ],
   "source": [
    "center_prop = find_centermost_mask(pred_gray,2000)"
   ]
  },
  {
   "cell_type": "code",
   "execution_count": 18,
   "metadata": {},
   "outputs": [
    {
     "data": {
      "text/plain": [
       "<matplotlib.image.AxesImage at 0x7f8c5e31f438>"
      ]
     },
     "execution_count": 18,
     "metadata": {},
     "output_type": "execute_result"
    },
    {
     "data": {
      "image/png": "[encoded data removed]",
      "text/plain": [
       "<Figure size 432x288 with 1 Axes>"
      ]
     },
     "metadata": {
      "needs_background": "light"
     },
     "output_type": "display_data"
    }
   ],
   "source": [
    "plt.imshow(center_prop)"
   ]
  },
  {
   "cell_type": "code",
   "execution_count": 20,
   "metadata": {},
   "outputs": [
    {
     "name": "stdout",
     "output_type": "stream",
     "text": [
      "10012\r\n"
     ]
    }
   ],
   "source": [
    "!ls /home/ec2-user/SageMaker/data/footprint/10009-training-images/input/ | wc -l"
   ]
  },
  {
   "cell_type": "code",
   "execution_count": 21,
   "metadata": {},
   "outputs": [
    {
     "name": "stdout",
     "output_type": "stream",
     "text": [
      "10009\r\n"
     ]
    }
   ],
   "source": [
    "! ls /home/ec2-user/SageMaker/data/footprint/10009-training-images/gt-binary/ | wc -l"
   ]
  }
 ],
 "metadata": {
  "kernelspec": {
   "display_name": "conda_fastai",
   "language": "python",
   "name": "conda_fastai"
  },
  "language_info": {
   "codemirror_mode": {
    "name": "ipython",
    "version": 3
   },
   "file_extension": ".py",
   "mimetype": "text/x-python",
   "name": "python",
   "nbconvert_exporter": "python",
   "pygments_lexer": "ipython3",
   "version": "3.7.0"
  }
 },
 "nbformat": 4,
 "nbformat_minor": 2
}
