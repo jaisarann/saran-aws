{
 "cells": [
  {
   "cell_type": "markdown",
   "metadata": {},
   "source": [
    "# Center Cut Prediction Image"
   ]
  },
  {
   "cell_type": "code",
   "execution_count": 1,
   "metadata": {},
   "outputs": [],
   "source": [
    "from itertools import groupby, chain\n",
    "from PIL import Image\n",
    "import matplotlib.pyplot as plt\n",
    "import cv2 \n",
    "import numpy as np\n",
    "from skimage import io, color\n",
    "import sys\n",
    "from skimage import img_as_ubyte\n",
    "import skimage.io as io\n",
    "import os\n",
    "np.set_printoptions(threshold=sys.maxsize)"
   ]
  },
  {
   "cell_type": "code",
   "execution_count": 14,
   "metadata": {},
   "outputs": [
    {
     "name": "stdout",
     "output_type": "stream",
     "text": [
      "Requirement already satisfied: scikit-image in /home/ec2-user/anaconda3/envs/fastai/lib/python3.7/site-packages (0.16.2)\n",
      "Requirement already satisfied: matplotlib!=3.0.0,>=2.0.0 in /home/ec2-user/anaconda3/envs/fastai/lib/python3.7/site-packages (from scikit-image) (3.1.2)\n",
      "Requirement already satisfied: scipy>=0.19.0 in /home/ec2-user/anaconda3/envs/fastai/lib/python3.7/site-packages (from scikit-image) (1.3.2)\n",
      "Requirement already satisfied: pillow>=4.3.0 in /home/ec2-user/anaconda3/envs/fastai/lib/python3.7/site-packages (from scikit-image) (6.2.1)\n",
      "Requirement already satisfied: PyWavelets>=0.4.0 in /home/ec2-user/anaconda3/envs/fastai/lib/python3.7/site-packages (from scikit-image) (1.1.1)\n",
      "Requirement already satisfied: imageio>=2.3.0 in /home/ec2-user/anaconda3/envs/fastai/lib/python3.7/site-packages (from scikit-image) (2.6.1)\n",
      "Requirement already satisfied: networkx>=2.0 in /home/ec2-user/anaconda3/envs/fastai/lib/python3.7/site-packages (from scikit-image) (2.4)\n",
      "Requirement already satisfied: python-dateutil>=2.1 in /home/ec2-user/anaconda3/envs/fastai/lib/python3.7/site-packages (from matplotlib!=3.0.0,>=2.0.0->scikit-image) (2.8.1)\n",
      "Requirement already satisfied: numpy>=1.11 in /home/ec2-user/anaconda3/envs/fastai/lib/python3.7/site-packages (from matplotlib!=3.0.0,>=2.0.0->scikit-image) (1.17.4)\n",
      "Requirement already satisfied: kiwisolver>=1.0.1 in /home/ec2-user/anaconda3/envs/fastai/lib/python3.7/site-packages (from matplotlib!=3.0.0,>=2.0.0->scikit-image) (1.1.0)\n",
      "Requirement already satisfied: pyparsing!=2.0.4,!=2.1.2,!=2.1.6,>=2.0.1 in /home/ec2-user/anaconda3/envs/fastai/lib/python3.7/site-packages (from matplotlib!=3.0.0,>=2.0.0->scikit-image) (2.4.5)\n",
      "Requirement already satisfied: cycler>=0.10 in /home/ec2-user/anaconda3/envs/fastai/lib/python3.7/site-packages (from matplotlib!=3.0.0,>=2.0.0->scikit-image) (0.10.0)\n",
      "Requirement already satisfied: decorator>=4.3.0 in /home/ec2-user/anaconda3/envs/fastai/lib/python3.7/site-packages (from networkx>=2.0->scikit-image) (4.4.1)\n",
      "Requirement already satisfied: six>=1.5 in /home/ec2-user/anaconda3/envs/fastai/lib/python3.7/site-packages (from python-dateutil>=2.1->matplotlib!=3.0.0,>=2.0.0->scikit-image) (1.13.0)\n",
      "Requirement already satisfied: setuptools in /home/ec2-user/anaconda3/envs/fastai/lib/python3.7/site-packages (from kiwisolver>=1.0.1->matplotlib!=3.0.0,>=2.0.0->scikit-image) (42.0.2.post20191203)\n"
     ]
    }
   ],
   "source": [
    "!pip install scikit-image"
   ]
  },
  {
   "cell_type": "markdown",
   "metadata": {},
   "source": [
    "### Commong Utility Functions"
   ]
  },
  {
   "cell_type": "code",
   "execution_count": 2,
   "metadata": {},
   "outputs": [],
   "source": [
    "def load_image(path, pad=True):\n",
    "    \"\"\"\n",
    "    Load image from a given path and pad it on the sides, so that eash side is divisible by 32 (newtwork requirement)\n",
    "    \n",
    "    if pad = True:\n",
    "        returns image as numpy.array, tuple with padding in pixels as(x_min_pad, y_min_pad, x_max_pad, y_max_pad)\n",
    "    else:\n",
    "        returns image as numpy.array\n",
    "    \"\"\"\n",
    "    img = cv2.imread(str(path))\n",
    "    img = cv2.cvtColor(img, cv2.COLOR_BGR2RGB)\n",
    "    \n",
    "    if not pad:\n",
    "        return img\n",
    "    \n",
    "    height, width, _ = img.shape\n",
    "    \n",
    "    if height % 32 == 0:\n",
    "        y_min_pad = 0\n",
    "        y_max_pad = 0\n",
    "    else:\n",
    "        y_pad = 32 - height % 32\n",
    "        y_min_pad = int(y_pad / 2)\n",
    "        y_max_pad = y_pad - y_min_pad\n",
    "        \n",
    "    if width % 32 == 0:\n",
    "        x_min_pad = 0\n",
    "        x_max_pad = 0\n",
    "    else:\n",
    "        x_pad = 32 - width % 32\n",
    "        x_min_pad = int(x_pad / 2)\n",
    "        x_max_pad = x_pad - x_min_pad\n",
    "    \n",
    "    img = cv2.copyMakeBorder(img, y_min_pad, y_max_pad, x_min_pad, x_max_pad, cv2.BORDER_REFLECT_101)\n",
    "\n",
    "    return img, (x_min_pad, y_min_pad, x_max_pad, y_max_pad)"
   ]
  },
  {
   "cell_type": "code",
   "execution_count": 3,
   "metadata": {},
   "outputs": [],
   "source": [
    "\n",
    "\n",
    "#from utilities.model_errors import ValidationError\n",
    "\n",
    "\n",
    "def find_centermost_mask(input_mask, min_pixels):\n",
    "    \"\"\"\n",
    "    Take in a binary mask and return a mask of the same shape, with only the centermost contiguous portion.\n",
    "    If a mask contains no contours (objects), then just return it (it's all zeros anyway).\n",
    "    \"\"\"\n",
    "\n",
    "    # Get all the bits aligned in memory\n",
    "    input_mask = np.ascontiguousarray(input_mask, dtype=np.uint8)\n",
    "    contours, _ = cv2.findContours(input_mask, cv2.RETR_EXTERNAL, cv2.CHAIN_APPROX_SIMPLE)\n",
    "\n",
    "    if not contours or len(contours) == 1:\n",
    "        return input_mask\n",
    "\n",
    "    moments = [cv2.moments(contour) for contour in contours]\n",
    "    # (x, y) tuples of centroid locations for contours (that have area > 0)\n",
    "    centroids = [\n",
    "        (m['m10'] / m['m00'], m['m01'] / m['m00'])\n",
    "        if m['m00'] and m['m00'] >= min_pixels else (0, 0)\n",
    "        for m in moments\n",
    "    ]\n",
    "\n",
    "    if not centroids:\n",
    "        raise ValidationError(f'No identified footprint contours contain more than {min_pixels} pixels.')\n",
    "\n",
    "    # dimensions come 1-indexed, but array indicies are 0-indexed\n",
    "    center = [(dim - 1) / 2 for dim in input_mask.shape]\n",
    "\n",
    "    # Cacluate (Manhattan) distance from center of image\n",
    "    distances_from_center = [abs(x - center[0]) + abs(y - center[1]) for x, y in centroids]\n",
    "    centermost_contour = contours[distances_from_center.index(min(distances_from_center))]\n",
    "\n",
    "    output_mask = np.zeros(input_mask.shape)\n",
    "    cv2.fillPoly(output_mask, centermost_contour.transpose((1, 0, 2)), 1)\n",
    "\n",
    "    return output_mask"
   ]
  },
  {
   "cell_type": "markdown",
   "metadata": {},
   "source": [
    "### Center cut the Prediction Image and Center Cut the Original Image"
   ]
  },
  {
   "cell_type": "code",
   "execution_count": 14,
   "metadata": {},
   "outputs": [],
   "source": [
    "pred_binary_img_path = '/home/ec2-user/SageMaker/data/footprint/190-test-images-pred-analysis-rn50-9-jan-2k20/190-test-images-pred-ouput-RGB-rn50-3-jan-2k20'\n",
    "pred_cc_save_path = '/home/ec2-user/SageMaker/data/footprint/190-test-images-pred-analysis-rn50-9-jan-2k20/190-test-pred-images-cc'"
   ]
  },
  {
   "cell_type": "code",
   "execution_count": 15,
   "metadata": {},
   "outputs": [
    {
     "data": {
      "text/plain": [
       "(['image_41_pred_rn50.png',\n",
       "  'image_123_pred_rn50.png',\n",
       "  'image_103_pred_rn50.png',\n",
       "  'image_39_pred_rn50.png',\n",
       "  'image_110_pred_rn50.png'],\n",
       " 190)"
      ]
     },
     "execution_count": 15,
     "metadata": {},
     "output_type": "execute_result"
    }
   ],
   "source": [
    "lst_pred_imgs = [img for img in os.listdir(pred_binary_img_path) if os.path.isfile(os.path.join(pred_binary_img_path, img))]\n",
    "lst_pred_imgs[:5], len(lst_pred_imgs)"
   ]
  },
  {
   "cell_type": "code",
   "execution_count": 24,
   "metadata": {},
   "outputs": [
    {
     "name": "stdout",
     "output_type": "stream",
     "text": [
      "processing :  1\n"
     ]
    }
   ],
   "source": [
    "for idx, pred_img_name in enumerate(lst_pred_imgs, start=1):\n",
    "    print('processing : ', idx)\n",
    "    pred_img_path_with_filename = os.path.join(pred_binary_img_path, pred_img_name)\n",
    "    pred_img = cv2.imread(pred_img_path_with_filename)\n",
    "    pred_gray = cv2.cvtColor(pred_img, cv2.COLOR_BGR2GRAY)\n",
    "    pred_gray[pred_gray > 0] = 1\n",
    "    pred_cc_img_mask=find_centermost_mask(pred_gray,2000)\n",
    "    io.imsave(os.path.join(pred_cc_save_path, pred_img_name.replace('_pred_rn50.png', 'pred_cc_binary.tif')), pred_cc_img_mask)\n"
   ]
  },
  {
   "cell_type": "code",
   "execution_count": null,
   "metadata": {},
   "outputs": [],
   "source": []
  }
 ],
 "metadata": {
  "kernelspec": {
   "display_name": "conda_fastai",
   "language": "python",
   "name": "conda_fastai"
  },
  "language_info": {
   "codemirror_mode": {
    "name": "ipython",
    "version": 3
   },
   "file_extension": ".py",
   "mimetype": "text/x-python",
   "name": "python",
   "nbconvert_exporter": "python",
   "pygments_lexer": "ipython3",
   "version": "3.7.0"
  }
 },
 "nbformat": 4,
 "nbformat_minor": 2
}
