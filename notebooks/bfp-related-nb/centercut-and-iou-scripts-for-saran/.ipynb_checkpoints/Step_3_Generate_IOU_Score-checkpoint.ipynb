{
 "cells": [
  {
   "cell_type": "code",
   "execution_count": 45,
   "metadata": {},
   "outputs": [],
   "source": [
    "import cv2 as cv\n",
    "import numpy as np\n",
    "import matplotlib.pyplot as plt\n",
    "import os"
   ]
  },
  {
   "cell_type": "code",
   "execution_count": 46,
   "metadata": {},
   "outputs": [],
   "source": [
    "pred_cc_img_path = '/home/ec2-user/SageMaker/data/footprint/190-test-images-pred-analysis-rn50-9-jan-2k20/190-test-pred-images-cc' \n",
    "#/image_102_pred_cc_binary.tif'\n",
    "lbl_cc_img_path = '/home/ec2-user/SageMaker/data/footprint/190-test-images-label-cc' #\n",
    "#/image_102_cc_binary.tif'"
   ]
  },
  {
   "cell_type": "markdown",
   "metadata": {},
   "source": [
    "### Common Function"
   ]
  },
  {
   "cell_type": "code",
   "execution_count": 47,
   "metadata": {},
   "outputs": [],
   "source": [
    "range_found = 'no range found'\n",
    "def find_iou_range(iou_score):\n",
    "    if 0 <= iou_score <= 20:\n",
    "        range_found = ' <= 20%'\n",
    "    elif 20 <= iou_score <= 30:\n",
    "        range_found = '20+ to 30%'\n",
    "    elif 30 <= iou_score <= 40:\n",
    "        range_found = '30+ to 40%'\n",
    "    elif 40 <= iou_score <= 50:\n",
    "        range_found = '40+ to 50%'\n",
    "    elif 50 <= iou_score <= 60:\n",
    "        range_found = '50+ to 60%'\n",
    "    elif 60 <= iou_score <= 70:\n",
    "        range_found = '60+ to 70%'\n",
    "    elif 70 <= iou_score <= 80:\n",
    "        range_found = '70+ to 80%'\n",
    "    elif 80 <= iou_score <= 90:\n",
    "        range_found = '80+ to 90%'        \n",
    "    elif 90 <= iou_score <= 95:\n",
    "        range_found = '90+ to 95%'        \n",
    "    elif 95 <= iou_score <= 100:\n",
    "        range_found = '95+ to 100%'                \n",
    "\n",
    "    return range_found"
   ]
  },
  {
   "cell_type": "code",
   "execution_count": 48,
   "metadata": {},
   "outputs": [],
   "source": [
    "def find_iou(gt_bw_img, pred_bw_img):\n",
    "    if(gt_bw_img.shape == pred_bw_img.shape):\n",
    "        intersection = np.logical_and(gt_bw_img, pred_bw_img)\n",
    "        union = np.logical_or(gt_bw_img, pred_bw_img)\n",
    "        iou_score = np.sum(intersection) / np.sum(union)\n",
    "        return iou_score\n",
    "    else:\n",
    "        raise Exception('***** find_iou() fails.')"
   ]
  },
  {
   "cell_type": "markdown",
   "metadata": {},
   "source": [
    "### Read Images"
   ]
  },
  {
   "cell_type": "code",
   "execution_count": 49,
   "metadata": {},
   "outputs": [
    {
     "data": {
      "text/plain": [
       "(['image_60_pred_cc_binary.tif', 'image_113_pred_cc_binary.tif'], 190)"
      ]
     },
     "execution_count": 49,
     "metadata": {},
     "output_type": "execute_result"
    }
   ],
   "source": [
    "lst_pred_cc_imgs = [img for img in os.listdir(pred_cc_img_path) if os.path.isfile(os.path.join(pred_cc_img_path, img))]\n",
    "lst_pred_cc_imgs[:2], len(lst_pred_cc_imgs)"
   ]
  },
  {
   "cell_type": "markdown",
   "metadata": {},
   "source": [
    "### Find IOU and Write it to CSV"
   ]
  },
  {
   "cell_type": "code",
   "execution_count": 53,
   "metadata": {},
   "outputs": [
    {
     "name": "stdout",
     "output_type": "stream",
     "text": [
      "/home/ec2-user/SageMaker/data/footprint/190-test-images-label-cc/image_60_cc_binary.tif\n",
      "/home/ec2-user/SageMaker/data/footprint/190-test-images-pred-analysis-rn50-9-jan-2k20/190-test-pred-images-cc/image_60_pred_cc_binary.tif\n",
      "# 1 :\t image_60_cc_binary.tif \t image_60_pred_cc_binary.tif \t 0.9654 \t 96.5387 \t 95+ to 100%\n",
      "~~~~~~~~~~~~~~~~~~~~~~~~~~~~~~~~~~~~~~~~~~~~~~~~~~~~~~~~~~~~~~~~~~~~~~~~~~~~~~~~~~~~~~~~~~~~~~~~~~~~\n",
      "/home/ec2-user/SageMaker/data/footprint/190-test-images-label-cc/image_113_cc_binary.tif\n",
      "/home/ec2-user/SageMaker/data/footprint/190-test-images-pred-analysis-rn50-9-jan-2k20/190-test-pred-images-cc/image_113_pred_cc_binary.tif\n",
      "# 2 :\t image_113_cc_binary.tif \t image_113_pred_cc_binary.tif \t 0.9782 \t 97.8198 \t 95+ to 100%\n",
      "~~~~~~~~~~~~~~~~~~~~~~~~~~~~~~~~~~~~~~~~~~~~~~~~~~~~~~~~~~~~~~~~~~~~~~~~~~~~~~~~~~~~~~~~~~~~~~~~~~~~\n",
      "/home/ec2-user/SageMaker/data/footprint/190-test-images-label-cc/image_140_cc_binary.tif\n",
      "/home/ec2-user/SageMaker/data/footprint/190-test-images-pred-analysis-rn50-9-jan-2k20/190-test-pred-images-cc/image_140_pred_cc_binary.tif\n",
      "# 3 :\t image_140_cc_binary.tif \t image_140_pred_cc_binary.tif \t 0.8304 \t 83.0424 \t 80+ to 90%\n",
      "~~~~~~~~~~~~~~~~~~~~~~~~~~~~~~~~~~~~~~~~~~~~~~~~~~~~~~~~~~~~~~~~~~~~~~~~~~~~~~~~~~~~~~~~~~~~~~~~~~~~\n",
      "/home/ec2-user/SageMaker/data/footprint/190-test-images-label-cc/image_43_cc_binary.tif\n",
      "/home/ec2-user/SageMaker/data/footprint/190-test-images-pred-analysis-rn50-9-jan-2k20/190-test-pred-images-cc/image_43_pred_cc_binary.tif\n",
      "# 4 :\t image_43_cc_binary.tif \t image_43_pred_cc_binary.tif \t 0.9251 \t 92.5093 \t 90+ to 95%\n",
      "~~~~~~~~~~~~~~~~~~~~~~~~~~~~~~~~~~~~~~~~~~~~~~~~~~~~~~~~~~~~~~~~~~~~~~~~~~~~~~~~~~~~~~~~~~~~~~~~~~~~\n",
      "/home/ec2-user/SageMaker/data/footprint/190-test-images-label-cc/image_11_cc_binary.tif\n",
      "/home/ec2-user/SageMaker/data/footprint/190-test-images-pred-analysis-rn50-9-jan-2k20/190-test-pred-images-cc/image_11_pred_cc_binary.tif\n",
      "# 5 :\t image_11_cc_binary.tif \t image_11_pred_cc_binary.tif \t 0.9776 \t 97.7589 \t 95+ to 100%\n",
      "~~~~~~~~~~~~~~~~~~~~~~~~~~~~~~~~~~~~~~~~~~~~~~~~~~~~~~~~~~~~~~~~~~~~~~~~~~~~~~~~~~~~~~~~~~~~~~~~~~~~\n"
     ]
    }
   ],
   "source": [
    "lst_final_csv_output= []\n",
    "for idx, pred_img_name in enumerate(lst_pred_cc_imgs, start=1):\n",
    "    try:\n",
    "#         print(pred_img_name)\n",
    "        pred_img_path_with_filename = os.path.join(pred_cc_img_path, pred_img_name)\n",
    "\n",
    "        lbl_img_name = pred_img_name.replace('pred_cc_binary', 'cc_binary')\n",
    "        lbl_img_path_with_filename = os.path.join(lbl_cc_img_path, lbl_img_name)\n",
    "        print(lbl_img_path_with_filename)\n",
    "        print(pred_img_path_with_filename)\n",
    "\n",
    "        lbl_bw_img = cv.imread(lbl_img_path_with_filename, cv.IMREAD_GRAYSCALE)\n",
    "        pred_bw_img = cv.imread(pred_img_path_with_filename, cv.IMREAD_GRAYSCALE)\n",
    "\n",
    "        #find IOU score\n",
    "        iou_score_original = find_iou(lbl_bw_img, pred_bw_img)\n",
    "        iou_score = '{0:.4f}'.format(iou_score_original)\n",
    "\n",
    "        iou_perc = '{0:.4f}'.format(iou_score_original*100)\n",
    "    #         print(type(iou_perc), iou_perc)\n",
    "        iou_range = find_iou_range(float(iou_perc))\n",
    "        img_name = pred_img_name.replace('pred_cc_binary', '')\n",
    "        print_str = '# {} :\\t {} \\t {} \\t {} \\t {} \\t {}'.format(idx, lbl_img_name, pred_img_name, iou_score, iou_perc, iou_range)\n",
    "        print(print_str)\n",
    "    #         print('Processing Image # %d : %s \\t %s \\t %s \\t %s' % (idx, img_name, pred_file_name, iou_score, iou_perc))\n",
    "    #     write_current_progress_status(print_str)\n",
    "        #construct LIST to store it in csv file\n",
    "        lst_final_csv_output.append([idx, img_name, iou_score , iou_perc, iou_range])\n",
    "    except Exception as exception:\n",
    "        print('-' * 50)\n",
    "        print('Exception raised %s for the Image %s' % (str(exception), img_name))\n",
    "        print('-' * 50)\n",
    "        write_log(str(exception), img_name )\n",
    "    finally:\n",
    "        print('~' * 100)\n",
    "\n",
    "        \n",
    "#store the csv output\n",
    "df = pd.DataFrame(lst_final_csv_output, columns=['#', 'image_name', 'IOU_Score', 'IOU_Perc', 'Class'])\n",
    "df.to_csv('iou_score.csv', index=False)\n",
    "print('total files processed : ', idx)\n",
    "print('csv generated successfully')    "
   ]
  },
  {
   "cell_type": "code",
   "execution_count": null,
   "metadata": {},
   "outputs": [],
   "source": []
  }
 ],
 "metadata": {
  "kernelspec": {
   "display_name": "conda_python3",
   "language": "python",
   "name": "conda_python3"
  },
  "language_info": {
   "codemirror_mode": {
    "name": "ipython",
    "version": 3
   },
   "file_extension": ".py",
   "mimetype": "text/x-python",
   "name": "python",
   "nbconvert_exporter": "python",
   "pygments_lexer": "ipython3",
   "version": "3.6.5"
  }
 },
 "nbformat": 4,
 "nbformat_minor": 2
}
