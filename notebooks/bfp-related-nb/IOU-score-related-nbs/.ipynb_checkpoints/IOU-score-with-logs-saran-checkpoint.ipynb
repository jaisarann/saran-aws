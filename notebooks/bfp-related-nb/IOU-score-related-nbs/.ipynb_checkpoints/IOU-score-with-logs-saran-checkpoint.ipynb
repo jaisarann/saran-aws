{
 "cells": [
  {
   "cell_type": "code",
   "execution_count": 1,
   "metadata": {},
   "outputs": [],
   "source": [
    "import os\n",
    "import cv2 as cv\n",
    "import matplotlib.pyplot as plt\n",
    "import numpy as np\n",
    "import time\n",
    "import pandas as pd\n",
    "%matplotlib inline"
   ]
  },
  {
   "cell_type": "code",
   "execution_count": 2,
   "metadata": {},
   "outputs": [],
   "source": [
    "gt_folder_path = '/home/ec2-user/SageMaker/data/footprint/9831_unet_rn34_train_images/gt_binary'\n",
    "pred_folder_path = '/home/ec2-user/SageMaker/data/footprint/9831_unet_rn34_train_images/pred_result'"
   ]
  },
  {
   "cell_type": "markdown",
   "metadata": {},
   "source": [
    "###  Loop over gt folder path images"
   ]
  },
  {
   "cell_type": "code",
   "execution_count": 3,
   "metadata": {},
   "outputs": [
    {
     "data": {
      "text/plain": [
       "(['image_1000_gt.tif',\n",
       "  'image_18414_gt.tif',\n",
       "  'image_12464_gt.tif',\n",
       "  'image_14761_gt.tif',\n",
       "  'image_6500_gt.tif'],\n",
       " 9831)"
      ]
     },
     "execution_count": 3,
     "metadata": {},
     "output_type": "execute_result"
    }
   ],
   "source": [
    "lst_gt_imgs= [gt_img_file for gt_img_file in os.listdir(gt_folder_path) if os.path.isfile(os.path.join(gt_folder_path, gt_img_file))]\n",
    "lst_gt_imgs[:5], len(lst_gt_imgs)"
   ]
  },
  {
   "cell_type": "code",
   "execution_count": 4,
   "metadata": {},
   "outputs": [],
   "source": [
    "def get_image(path, is_bw_img=True):\n",
    "    gray_img = cv.imread(path, cv.IMREAD_GRAYSCALE)\n",
    "    if gray_img.shape != (512, 512):\n",
    "        raise Exception(' ***** get_image() fails for image : ', path)\n",
    "    if not is_bw_img:\n",
    "        #if it is not bw image already then conver it to bw image.\n",
    "        th, gray_img = cv.threshold(gray_img, 100, 1, cv.THRESH_BINARY)\n",
    "        \n",
    "    return gray_img"
   ]
  },
  {
   "cell_type": "code",
   "execution_count": 5,
   "metadata": {},
   "outputs": [],
   "source": [
    "def find_iou(gt_bw_img, pred_bw_img):\n",
    "    if(gt_bw_img.shape == pred_bw_img.shape):\n",
    "        intersection = np.logical_and(gt_bw_img, pred_bw_img)\n",
    "        union = np.logical_or(gt_bw_img, pred_bw_img)\n",
    "        iou_score = np.sum(intersection) / np.sum(union)\n",
    "        return iou_score\n",
    "    else:\n",
    "        raise Exception('***** find_iou() fails.')"
   ]
  },
  {
   "cell_type": "code",
   "execution_count": 17,
   "metadata": {},
   "outputs": [],
   "source": [
    "def write_current_progress_status(log_text):\n",
    "    with open('progress.txt', 'a') as logs:\n",
    "        curr_time = time.localtime()\n",
    "        str_time = str(curr_time.tm_mday) + '/' + str(curr_time.tm_mon) + '/' + str(curr_time.tm_year) + ' \\t ' + str(curr_time.tm_hour) + ':' + str(curr_time.tm_min) + ':' + str(curr_time.tm_sec)\n",
    "        logs.write('\\n' + log_text + ' \\t ' + str_time)"
   ]
  },
  {
   "cell_type": "code",
   "execution_count": 18,
   "metadata": {},
   "outputs": [],
   "source": [
    "def write_log(*log_text):\n",
    "    with open('logs.txt', 'a') as logs:\n",
    "        curr_time = time.localtime()\n",
    "        str_time = str(curr_time.tm_mday) + '/' + str(curr_time.tm_mon) + '/' + str(curr_time.tm_year) + ' \\t ' + str(curr_time.tm_hour) + ':' + str(curr_time.tm_min) + ':' + str(curr_time.tm_sec)\n",
    "        logs.write('\\n' + ' '.join(log_text) + ' \\t ' + str_time)"
   ]
  },
  {
   "cell_type": "code",
   "execution_count": 19,
   "metadata": {},
   "outputs": [],
   "source": [
    "range_found = 'no range found'\n",
    "def find_iou_range(iou_score):\n",
    "    if 0 <= iou_score <= 20:\n",
    "        range_found = ' <= 20%'\n",
    "    elif 20 <= iou_score <= 30:\n",
    "        range_found = '20+ to 30%'\n",
    "    elif 30 <= iou_score <= 40:\n",
    "        range_found = '30+ to 40%'\n",
    "    elif 40 <= iou_score <= 50:\n",
    "        range_found = '40+ to 50%'\n",
    "    elif 50 <= iou_score <= 60:\n",
    "        range_found = '50+ to 60%'\n",
    "    elif 60 <= iou_score <= 70:\n",
    "        range_found = '60+ to 70%'\n",
    "    elif 70 <= iou_score <= 80:\n",
    "        range_found = '70+ to 80%'\n",
    "    elif 80 <= iou_score <= 90:\n",
    "        range_found = '80+ to 90%'        \n",
    "    elif 90 <= iou_score <= 95:\n",
    "        range_found = '90+ to 95%'        \n",
    "    elif 95 <= iou_score <= 100:\n",
    "        range_found = '95+ to 100%'                \n",
    "\n",
    "    return range_found"
   ]
  },
  {
   "cell_type": "code",
   "execution_count": 21,
   "metadata": {},
   "outputs": [
    {
     "name": "stdout",
     "output_type": "stream",
     "text": [
      "Processing Image # 1 :\t image_1000_gt.tif \t image_1000_pred_binary.png \t 0.9915 \t 99.1516 \t 95+ to 100%\n",
      "~~~~~~~~~~~~~~~~~~~~~~~~~~~~~~~~~~~~~~~~~~~~~~~~~~~~~~~~~~~~~~~~~~~~~~~~~~~~~~~~~~~~~~~~~~~~~~~~~~~~\n",
      "Processing Image # 2 :\t image_18414_gt.tif \t image_18414_pred_binary.png \t 0.9655 \t 96.5541 \t 95+ to 100%\n",
      "~~~~~~~~~~~~~~~~~~~~~~~~~~~~~~~~~~~~~~~~~~~~~~~~~~~~~~~~~~~~~~~~~~~~~~~~~~~~~~~~~~~~~~~~~~~~~~~~~~~~\n",
      "Processing Image # 3 :\t image_12464_gt.tif \t image_12464_pred_binary.png \t 0.9504 \t 95.0444 \t 95+ to 100%\n",
      "~~~~~~~~~~~~~~~~~~~~~~~~~~~~~~~~~~~~~~~~~~~~~~~~~~~~~~~~~~~~~~~~~~~~~~~~~~~~~~~~~~~~~~~~~~~~~~~~~~~~\n",
      "Processing Image # 4 :\t image_14761_gt.tif \t image_14761_pred_binary.png \t 0.8632 \t 86.3222 \t 80+ to 90%\n",
      "~~~~~~~~~~~~~~~~~~~~~~~~~~~~~~~~~~~~~~~~~~~~~~~~~~~~~~~~~~~~~~~~~~~~~~~~~~~~~~~~~~~~~~~~~~~~~~~~~~~~\n",
      "Processing Image # 5 :\t image_6500_gt.tif \t image_6500_pred_binary.png \t 0.9884 \t 98.8420 \t 95+ to 100%\n",
      "~~~~~~~~~~~~~~~~~~~~~~~~~~~~~~~~~~~~~~~~~~~~~~~~~~~~~~~~~~~~~~~~~~~~~~~~~~~~~~~~~~~~~~~~~~~~~~~~~~~~\n",
      "Processing Image # 6 :\t image_6132_gt.tif \t image_6132_pred_binary.png \t 0.9435 \t 94.3528 \t 90+ to 95%\n",
      "~~~~~~~~~~~~~~~~~~~~~~~~~~~~~~~~~~~~~~~~~~~~~~~~~~~~~~~~~~~~~~~~~~~~~~~~~~~~~~~~~~~~~~~~~~~~~~~~~~~~\n",
      "Processing Image # 7 :\t image_2947_gt.tif \t image_2947_pred_binary.png \t 0.9622 \t 96.2200 \t 95+ to 100%\n",
      "~~~~~~~~~~~~~~~~~~~~~~~~~~~~~~~~~~~~~~~~~~~~~~~~~~~~~~~~~~~~~~~~~~~~~~~~~~~~~~~~~~~~~~~~~~~~~~~~~~~~\n",
      "Processing Image # 8 :\t image_9890_gt.tif \t image_9890_pred_binary.png \t 0.9854 \t 98.5383 \t 95+ to 100%\n",
      "~~~~~~~~~~~~~~~~~~~~~~~~~~~~~~~~~~~~~~~~~~~~~~~~~~~~~~~~~~~~~~~~~~~~~~~~~~~~~~~~~~~~~~~~~~~~~~~~~~~~\n",
      "Processing Image # 9 :\t image_5343_gt.tif \t image_5343_pred_binary.png \t 0.8959 \t 89.5907 \t 80+ to 90%\n",
      "~~~~~~~~~~~~~~~~~~~~~~~~~~~~~~~~~~~~~~~~~~~~~~~~~~~~~~~~~~~~~~~~~~~~~~~~~~~~~~~~~~~~~~~~~~~~~~~~~~~~\n",
      "Processing Image # 10 :\t image_18005_gt.tif \t image_18005_pred_binary.png \t 0.9581 \t 95.8104 \t 95+ to 100%\n",
      "~~~~~~~~~~~~~~~~~~~~~~~~~~~~~~~~~~~~~~~~~~~~~~~~~~~~~~~~~~~~~~~~~~~~~~~~~~~~~~~~~~~~~~~~~~~~~~~~~~~~\n"
     ]
    }
   ],
   "source": [
    "lst_final_csv_output= []\n",
    "for idx, img_name in enumerate(lst_gt_imgs, start=1):\n",
    "    try:\n",
    "        #Get gt image. since it is already b&w image no need to convert it to B&W image.\n",
    "        gt_bw_img = get_image(os.path.join(gt_folder_path, img_name))\n",
    "\n",
    "        #Get prediction image. since it is not already b&w image have to convert it to B&W image.\n",
    "        pred_file_name = img_name.replace('_gt.tif', '_pred_binary.png')\n",
    "        pred_bw_img = get_image(os.path.join(pred_folder_path, pred_file_name), False)\n",
    "#         pred_bw_img = cv.copyMakeBorder(pred_bw_img, 10,10,10,10, cv.BORDER_REFLECT101)\n",
    "\n",
    "        #find IOU score\n",
    "        iou_score_original = find_iou(gt_bw_img, pred_bw_img)\n",
    "        iou_score = '{0:.4f}'.format(iou_score_original)\n",
    "        \n",
    "        iou_perc = '{0:.4f}'.format(iou_score_original*100)\n",
    "#         print(type(iou_perc), iou_perc)\n",
    "        iou_range = find_iou_range(float(iou_perc))\n",
    "        print_str = '# {} :\\t {} \\t {} \\t {} \\t {} \\t {}'.format(idx, img_name, pred_file_name, iou_score, iou_perc, iou_range)\n",
    "        print(print_str)\n",
    "#         print('Processing Image # %d : %s \\t %s \\t %s \\t %s' % (idx, img_name, pred_file_name, iou_score, iou_perc))\n",
    "        write_current_progress_status(print_str)\n",
    "        #construct LIST to store it in csv file\n",
    "        lst_final_csv_output.append([idx, img_name, iou_score , iou_perc, iou_range])\n",
    "    except Exception as exception:\n",
    "        print('-' * 50)\n",
    "        print('Exception raised %s for the Image %s' % (str(exception), img_name))\n",
    "        print('-' * 50)\n",
    "        write_log(str(exception), img_name )\n",
    "    finally:\n",
    "        print('~' * 100)\n",
    "        \n",
    "#store the csv output\n",
    "df = pd.DataFrame(lst_final_csv_output, columns=['No', 'image_name', 'IOU_Score', 'IOU_Perc', 'Class'])\n",
    "df.to_csv('iou_score.csv', index=False)\n",
    "print('total files processed : ', idx)\n",
    "print('csv generated successfully')"
   ]
  },
  {
   "cell_type": "code",
   "execution_count": null,
   "metadata": {},
   "outputs": [],
   "source": []
  }
 ],
 "metadata": {
  "kernelspec": {
   "display_name": "conda_python3",
   "language": "python",
   "name": "conda_python3"
  },
  "language_info": {
   "codemirror_mode": {
    "name": "ipython",
    "version": 3
   },
   "file_extension": ".py",
   "mimetype": "text/x-python",
   "name": "python",
   "nbconvert_exporter": "python",
   "pygments_lexer": "ipython3",
   "version": "3.6.5"
  }
 },
 "nbformat": 4,
 "nbformat_minor": 2
}
