{
 "cells": [
  {
   "cell_type": "code",
   "execution_count": 1,
   "metadata": {},
   "outputs": [
    {
     "name": "stdout",
     "output_type": "stream",
     "text": [
      "Collecting imutils\n",
      "  Downloading https://files.pythonhosted.org/packages/b5/94/46dcae8c061e28be31bcaa55c560cb30ee9403c9a4bb2659768ec1b9eb7d/imutils-0.5.3.tar.gz\n",
      "Building wheels for collected packages: imutils\n",
      "  Running setup.py bdist_wheel for imutils ... \u001b[?25ldone\n",
      "\u001b[?25h  Stored in directory: /home/ec2-user/.cache/pip/wheels/16/84/1f/bf88641293cda2c8be81a5c4b8ca973dd9125a6dc3767417fd\n",
      "Successfully built imutils\n",
      "Installing collected packages: imutils\n",
      "Successfully installed imutils-0.5.3\n",
      "\u001b[33mYou are using pip version 10.0.1, however version 20.0.2 is available.\n",
      "You should consider upgrading via the 'pip install --upgrade pip' command.\u001b[0m\n"
     ]
    }
   ],
   "source": [
    "!pip install imutils"
   ]
  },
  {
   "cell_type": "code",
   "execution_count": 2,
   "metadata": {},
   "outputs": [
    {
     "name": "stdout",
     "output_type": "stream",
     "text": [
      "Requirement already satisfied: scikit-image in /home/ec2-user/anaconda3/envs/python3/lib/python3.6/site-packages (0.13.1)\n",
      "Requirement already satisfied: matplotlib>=1.3.1 in /home/ec2-user/anaconda3/envs/python3/lib/python3.6/site-packages (from scikit-image) (3.0.3)\n",
      "Requirement already satisfied: six>=1.7.3 in /home/ec2-user/anaconda3/envs/python3/lib/python3.6/site-packages (from scikit-image) (1.11.0)\n",
      "Requirement already satisfied: networkx>=1.8 in /home/ec2-user/anaconda3/envs/python3/lib/python3.6/site-packages (from scikit-image) (2.1)\n",
      "Requirement already satisfied: pillow>=2.1.0 in /home/ec2-user/anaconda3/envs/python3/lib/python3.6/site-packages (from scikit-image) (5.2.0)\n",
      "Requirement already satisfied: PyWavelets>=0.4.0 in /home/ec2-user/anaconda3/envs/python3/lib/python3.6/site-packages (from scikit-image) (0.5.2)\n",
      "Requirement already satisfied: pyparsing!=2.0.4,!=2.1.2,!=2.1.6,>=2.0.1 in /home/ec2-user/anaconda3/envs/python3/lib/python3.6/site-packages (from matplotlib>=1.3.1->scikit-image) (2.2.0)\n",
      "Requirement already satisfied: kiwisolver>=1.0.1 in /home/ec2-user/anaconda3/envs/python3/lib/python3.6/site-packages (from matplotlib>=1.3.1->scikit-image) (1.0.1)\n",
      "Requirement already satisfied: cycler>=0.10 in /home/ec2-user/anaconda3/envs/python3/lib/python3.6/site-packages (from matplotlib>=1.3.1->scikit-image) (0.10.0)\n",
      "Requirement already satisfied: python-dateutil>=2.1 in /home/ec2-user/anaconda3/envs/python3/lib/python3.6/site-packages (from matplotlib>=1.3.1->scikit-image) (2.7.3)\n",
      "Requirement already satisfied: numpy>=1.10.0 in /home/ec2-user/anaconda3/envs/python3/lib/python3.6/site-packages (from matplotlib>=1.3.1->scikit-image) (1.14.3)\n",
      "Requirement already satisfied: decorator>=4.1.0 in /home/ec2-user/anaconda3/envs/python3/lib/python3.6/site-packages (from networkx>=1.8->scikit-image) (4.3.0)\n",
      "Requirement already satisfied: setuptools in /home/ec2-user/anaconda3/envs/python3/lib/python3.6/site-packages (from kiwisolver>=1.0.1->matplotlib>=1.3.1->scikit-image) (39.1.0)\n",
      "\u001b[33mYou are using pip version 10.0.1, however version 20.0.2 is available.\n",
      "You should consider upgrading via the 'pip install --upgrade pip' command.\u001b[0m\n"
     ]
    }
   ],
   "source": [
    "!pip install scikit-image"
   ]
  },
  {
   "cell_type": "code",
   "execution_count": 3,
   "metadata": {},
   "outputs": [],
   "source": [
    "import cv2 as cv\n",
    "import numpy as np\n",
    "import matplotlib.pyplot as plt\n",
    "import imutils"
   ]
  },
  {
   "cell_type": "code",
   "execution_count": 4,
   "metadata": {},
   "outputs": [],
   "source": [
    "import skimage.io as io"
   ]
  },
  {
   "cell_type": "markdown",
   "metadata": {},
   "source": [
    "### Find IOU"
   ]
  },
  {
   "cell_type": "code",
   "execution_count": 5,
   "metadata": {},
   "outputs": [],
   "source": [
    "def findIOU(label_img, pred_img):\n",
    "    intersection = np.logical_and(label_img, pred_img)\n",
    "    union = np.logical_or(label_img, pred_img)\n",
    "    iou_score = np.sum(intersection) / np.sum(union)\n",
    "    return iou_score"
   ]
  },
  {
   "cell_type": "markdown",
   "metadata": {},
   "source": [
    "### Set Image to find IOU Score"
   ]
  },
  {
   "cell_type": "code",
   "execution_count": 6,
   "metadata": {},
   "outputs": [],
   "source": [
    "image_no = 1"
   ]
  },
  {
   "cell_type": "code",
   "execution_count": 7,
   "metadata": {},
   "outputs": [],
   "source": [
    "# pred_cc_path = f'/home/ec2-user/SageMaker/notebooks/bfp-related-nb/test_rotate_pred_cc/img_{image_no}_270_deg_cc.png'\n",
    "# pred_path = f'/home/ec2-user/SageMaker/notebooks/bfp-related-nb/test_rotate_pred/img_{image_no}_270_deg_pred.png'\n",
    "\n",
    "pred_cc_path = f'/home/ec2-user/SageMaker/data/footprint/mohan-func-test-run-data/run-1/resnet-50-out-cc-old-logic/image_{image_no}_cc.png'\n",
    "label_cc_path = f'/home/ec2-user/SageMaker/data/footprint/mohan-func-test-run-data/run-1/label-626-cc-old-logic/image_{image_no}_cc.tif'\n",
    "\n",
    "# pred_cc_path = f'/home/ec2-user/SageMaker/data/footprint/mohan-func-test-run-data/verification-run/rn34-cc/image_{image_no}_cc.png'\n",
    "# pred_path = f'/home/ec2-user/SageMaker/data/footprint/mohan-func-test-run-data/run-1/resnet-34-out/image_{image_no}_pred_binary.png'\n",
    "\n",
    "\n",
    "label_path = f'/home/ec2-user/SageMaker/data/footprint/mohan-func-test-run-data/run-1/label-626-gt/image_{image_no}_gt.tif'\n",
    "pred_path = f'/home/ec2-user/SageMaker/data/footprint/mohan-func-test-run-data/run-1/resnet-50-out/image_{image_no}_pred_binary.png'"
   ]
  },
  {
   "cell_type": "code",
   "execution_count": 8,
   "metadata": {},
   "outputs": [
    {
     "data": {
      "text/plain": [
       "'/home/ec2-user/SageMaker/data/footprint/mohan-func-test-run-data/run-1/label-626-cc-old-logic/image_1_cc.tif'"
      ]
     },
     "execution_count": 8,
     "metadata": {},
     "output_type": "execute_result"
    }
   ],
   "source": [
    "label_cc_path"
   ]
  },
  {
   "cell_type": "code",
   "execution_count": 9,
   "metadata": {},
   "outputs": [],
   "source": [
    "# /home/ec2-user/SageMaker/data/footprint/mohan-func-test-run-data/verification-run-27-jan-20/label-cc/image_289_gt_cc.tif\n",
    "# /home/ec2-user/SageMaker/data/footprint/mohan-func-test-run-data/verification-run-27-jan-20/label-cc/image_289_gt_cc.tif"
   ]
  },
  {
   "cell_type": "code",
   "execution_count": 10,
   "metadata": {},
   "outputs": [
    {
     "data": {
      "text/plain": [
       "(512, 512, 3)"
      ]
     },
     "execution_count": 10,
     "metadata": {},
     "output_type": "execute_result"
    }
   ],
   "source": [
    "label_original_img = cv.imread(label_path)\n",
    "label_original_img.shape"
   ]
  },
  {
   "cell_type": "markdown",
   "metadata": {},
   "source": [
    "### Original, Center Cut - Label Image"
   ]
  },
  {
   "cell_type": "code",
   "execution_count": 11,
   "metadata": {},
   "outputs": [
    {
     "data": {
      "text/plain": [
       "<matplotlib.image.AxesImage at 0x7f4af669a668>"
      ]
     },
     "execution_count": 11,
     "metadata": {},
     "output_type": "execute_result"
    },
    {
     "data": {
      "image/png": "[encoded data removed]",
      "text/plain": [
       "<Figure size 432x288 with 2 Axes>"
      ]
     },
     "metadata": {},
     "output_type": "display_data"
    }
   ],
   "source": [
    "\n",
    "lbl_cc_img = io.imread(label_cc_path)\n",
    "lbl_cc_img = cv.imread(label_cc_path, cv.IMREAD_GRAYSCALE)\n",
    "label_original_img = cv.imread(label_path, cv.IMREAD_GRAYSCALE)\n",
    "\n",
    "fig = plt.figure()\n",
    "img1 = fig.add_subplot(1,2,1)\n",
    "img1.imshow(label_original_img)\n",
    "\n",
    "img2 = fig.add_subplot(1,2,2)\n",
    "img2.imshow(lbl_cc_img)\n"
   ]
  },
  {
   "cell_type": "markdown",
   "metadata": {},
   "source": [
    "### Original and Center cut - Prediction Image "
   ]
  },
  {
   "cell_type": "code",
   "execution_count": 12,
   "metadata": {
    "scrolled": true
   },
   "outputs": [
    {
     "data": {
      "text/plain": [
       "<matplotlib.image.AxesImage at 0x7f4af58c6da0>"
      ]
     },
     "execution_count": 12,
     "metadata": {},
     "output_type": "execute_result"
    },
    {
     "data": {
      "image/png": "[encoded data removed]",
      "text/plain": [
       "<Figure size 432x288 with 2 Axes>"
      ]
     },
     "metadata": {},
     "output_type": "display_data"
    }
   ],
   "source": [
    "pred_cc_img = cv.imread(pred_cc_path, cv.IMREAD_GRAYSCALE)\n",
    "pred_original_img = cv.imread(pred_path, cv.IMREAD_GRAYSCALE)\n",
    "\n",
    "fig = plt.figure()\n",
    "img3 = fig.add_subplot(1,2,1)\n",
    "# plt.imshow(pred_original_img)\n",
    "# plt.show()\n",
    "img3.imshow(pred_original_img) \n",
    "\n",
    "img4 = fig.add_subplot(1,2,2)\n",
    "img4.imshow(pred_cc_img)\n",
    "# plt.imshow(pred_cc_img)\n",
    "# plt.show()\n",
    "\n",
    "# print(pred_bw_img.shape, np.unique(pred_bw_img))\n",
    "# plt.imshow(pred_bw_img)"
   ]
  },
  {
   "cell_type": "markdown",
   "metadata": {},
   "source": [
    "### Find IOU score"
   ]
  },
  {
   "cell_type": "code",
   "execution_count": 38,
   "metadata": {},
   "outputs": [
    {
     "name": "stdout",
     "output_type": "stream",
     "text": [
      "0.0\n"
     ]
    }
   ],
   "source": [
    "print(findIOU(lbl_cc_img, pred_cc_img))"
   ]
  },
  {
   "cell_type": "markdown",
   "metadata": {},
   "source": [
    "### compare LABEL and PRED images"
   ]
  },
  {
   "cell_type": "code",
   "execution_count": null,
   "metadata": {},
   "outputs": [],
   "source": [
    "np.array_equal(pred_bw_img, lbl_bw_img)"
   ]
  }
 ],
 "metadata": {
  "kernelspec": {
   "display_name": "conda_python3",
   "language": "python",
   "name": "conda_python3"
  },
  "language_info": {
   "codemirror_mode": {
    "name": "ipython",
    "version": 3
   },
   "file_extension": ".py",
   "mimetype": "text/x-python",
   "name": "python",
   "nbconvert_exporter": "python",
   "pygments_lexer": "ipython3",
   "version": "3.6.5"
  }
 },
 "nbformat": 4,
 "nbformat_minor": 4
}
