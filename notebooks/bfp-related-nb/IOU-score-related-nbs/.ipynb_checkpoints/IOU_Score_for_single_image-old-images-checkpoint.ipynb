{
 "cells": [
  {
   "cell_type": "code",
   "execution_count": 1,
   "metadata": {},
   "outputs": [],
   "source": [
    "import cv2 as cv\n",
    "import numpy as np\n",
    "import matplotlib.pyplot as plt"
   ]
  },
  {
   "cell_type": "markdown",
   "metadata": {},
   "source": [
    "### Find IOU"
   ]
  },
  {
   "cell_type": "code",
   "execution_count": 2,
   "metadata": {},
   "outputs": [],
   "source": [
    "def findIOU(label_img, pred_img):\n",
    "    intersection = np.logical_and(label_img, pred_img)\n",
    "    union = np.logical_or(label_img, pred_img)\n",
    "    iou_score = np.sum(intersection) / np.sum(union)\n",
    "    return iou_score"
   ]
  },
  {
   "cell_type": "markdown",
   "metadata": {},
   "source": [
    "### Set Image to find IOU Score"
   ]
  },
  {
   "cell_type": "code",
   "execution_count": 61,
   "metadata": {},
   "outputs": [],
   "source": [
    "image_no = 118"
   ]
  },
  {
   "cell_type": "markdown",
   "metadata": {},
   "source": [
    "### Resnet 34 paths"
   ]
  },
  {
   "cell_type": "code",
   "execution_count": 71,
   "metadata": {},
   "outputs": [],
   "source": [
    "pred_cc_path = f'/home/ec2-user/SageMaker/data/footprint/mohan-func-test-run-data/resnet-34-out-cc-updated/image_{image_no}_cc.png'\n",
    "label_cc_path = f'/home/ec2-user/SageMaker/data/footprint/mohan-func-test-run-data/label_626_gt_updated/image_{image_no}_cc.tif'\n",
    "label_path = f'/home/ec2-user/SageMaker/data/footprint/mohan-func-test-run-data/label_626_gt/image_{image_no}_gt.tif'\n",
    "pred_path = f'/home/ec2-user/SageMaker/data/footprint/mohan-func-test-run-data/res_34_out/image_{image_no}_pred_binary.png'"
   ]
  },
  {
   "cell_type": "markdown",
   "metadata": {},
   "source": [
    "### Resnet 50"
   ]
  },
  {
   "cell_type": "code",
   "execution_count": 67,
   "metadata": {},
   "outputs": [],
   "source": [
    "\n",
    "\n",
    "pred_cc_path = f'/home/ec2-user/SageMaker/data/footprint/mohan-func-test-run-data/resnet-50-out-cc-updated/image_{image_no}_pred_binary.png'\n",
    "label_cc_path = f'/home/ec2-user/SageMaker/data/footprint/mohan-func-test-run-data/label_626_gt_updated/image_{image_no}_cc.tif'\n",
    "label_path = f'/home/ec2-user/SageMaker/data/footprint/mohan-func-test-run-data/label_626_gt/image_{image_no}_gt.tif'\n",
    "pred_path = f'/home/ec2-user/SageMaker/data/footprint/mohan-func-test-run-data/resnet-50-out/image_{image_no}_pred_binary.png'"
   ]
  },
  {
   "cell_type": "code",
   "execution_count": 72,
   "metadata": {},
   "outputs": [
    {
     "data": {
      "text/plain": [
       "(512, 512)"
      ]
     },
     "execution_count": 72,
     "metadata": {},
     "output_type": "execute_result"
    }
   ],
   "source": [
    "label_original_img = cv.imread(label_path, cv.IMREAD_GRAYSCALE)\n",
    "label_original_img.shape"
   ]
  },
  {
   "cell_type": "markdown",
   "metadata": {},
   "source": [
    "### Original, Center Cut - Label Image"
   ]
  },
  {
   "cell_type": "code",
   "execution_count": 73,
   "metadata": {
    "scrolled": false
   },
   "outputs": [
    {
     "data": {
      "text/plain": [
       "<matplotlib.image.AxesImage at 0x7f28baf83c88>"
      ]
     },
     "execution_count": 73,
     "metadata": {},
     "output_type": "execute_result"
    },
    {
     "data": {
      "image/png": "[encoded data removed]",
      "text/plain": [
       "<Figure size 432x288 with 2 Axes>"
      ]
     },
     "metadata": {},
     "output_type": "display_data"
    }
   ],
   "source": [
    "\n",
    "lbl_cc_img = cv.imread(label_cc_path, cv.IMREAD_GRAYSCALE)\n",
    "label_original_img = cv.imread(label_path, cv.IMREAD_GRAYSCALE)\n",
    "\n",
    "fig = plt.figure()\n",
    "img1 = fig.add_subplot(1,2,1)\n",
    "img1.imshow(label_original_img)\n",
    "\n",
    "img2 = fig.add_subplot(1,2,2)\n",
    "img2.imshow(lbl_cc_img)\n"
   ]
  },
  {
   "cell_type": "markdown",
   "metadata": {},
   "source": [
    "### Original and Center cut - Prediction Image"
   ]
  },
  {
   "cell_type": "code",
   "execution_count": 74,
   "metadata": {},
   "outputs": [
    {
     "data": {
      "text/plain": [
       "<matplotlib.image.AxesImage at 0x7f28baf26128>"
      ]
     },
     "execution_count": 74,
     "metadata": {},
     "output_type": "execute_result"
    },
    {
     "data": {
      "image/png": "[encoded data removed]",
      "text/plain": [
       "<Figure size 432x288 with 2 Axes>"
      ]
     },
     "metadata": {},
     "output_type": "display_data"
    }
   ],
   "source": [
    "pred_cc_img = cv.imread(pred_cc_path, cv.IMREAD_GRAYSCALE)\n",
    "pred_original_img = cv.imread(pred_path, cv.IMREAD_GRAYSCALE)\n",
    "\n",
    "fig = plt.figure()\n",
    "img3 = fig.add_subplot(1,2,1)\n",
    "# plt.imshow(pred_original_img)\n",
    "# plt.show()\n",
    "img3.imshow(pred_original_img) \n",
    "\n",
    "img4 = fig.add_subplot(1,2,2)\n",
    "img4.imshow(pred_cc_img)\n",
    "# plt.imshow(pred_cc_img)\n",
    "# plt.show()\n",
    "\n",
    "# print(pred_bw_img.shape, np.unique(pred_bw_img))\n",
    "# plt.imshow(pred_bw_img)"
   ]
  },
  {
   "cell_type": "code",
   "execution_count": 51,
   "metadata": {},
   "outputs": [
    {
     "data": {
      "text/plain": [
       "array([ 30, 215], dtype=uint8)"
      ]
     },
     "execution_count": 51,
     "metadata": {},
     "output_type": "execute_result"
    }
   ],
   "source": [
    "np.unique(pred_original_img)"
   ]
  },
  {
   "cell_type": "code",
   "execution_count": 70,
   "metadata": {},
   "outputs": [
    {
     "data": {
      "text/plain": [
       "array([  0, 255], dtype=uint8)"
      ]
     },
     "execution_count": 70,
     "metadata": {},
     "output_type": "execute_result"
    }
   ],
   "source": [
    "np.unique(pred_cc_img)"
   ]
  },
  {
   "cell_type": "markdown",
   "metadata": {},
   "source": [
    "### IOU score - with Center Cut"
   ]
  },
  {
   "cell_type": "code",
   "execution_count": 13,
   "metadata": {},
   "outputs": [
    {
     "name": "stdout",
     "output_type": "stream",
     "text": [
      "0.5382862433014652\n"
     ]
    }
   ],
   "source": [
    "print(findIOU(lbl_cc_img, pred_cc_img))"
   ]
  },
  {
   "cell_type": "markdown",
   "metadata": {},
   "source": [
    "### IOU score - Without Center Cut"
   ]
  },
  {
   "cell_type": "code",
   "execution_count": 11,
   "metadata": {},
   "outputs": [
    {
     "name": "stdout",
     "output_type": "stream",
     "text": [
      "0.9861227821660945\n"
     ]
    }
   ],
   "source": [
    "print(findIOU(label_original_img, pred_original_img))"
   ]
  },
  {
   "cell_type": "code",
   "execution_count": null,
   "metadata": {},
   "outputs": [],
   "source": []
  },
  {
   "cell_type": "code",
   "execution_count": null,
   "metadata": {},
   "outputs": [],
   "source": []
  },
  {
   "cell_type": "code",
   "execution_count": null,
   "metadata": {},
   "outputs": [],
   "source": []
  },
  {
   "cell_type": "code",
   "execution_count": null,
   "metadata": {},
   "outputs": [],
   "source": []
  },
  {
   "cell_type": "code",
   "execution_count": null,
   "metadata": {},
   "outputs": [],
   "source": []
  },
  {
   "cell_type": "code",
   "execution_count": null,
   "metadata": {},
   "outputs": [],
   "source": []
  },
  {
   "cell_type": "markdown",
   "metadata": {},
   "source": [
    "### compare LABEL and PRED images"
   ]
  },
  {
   "cell_type": "code",
   "execution_count": 18,
   "metadata": {},
   "outputs": [
    {
     "data": {
      "text/plain": [
       "False"
      ]
     },
     "execution_count": 18,
     "metadata": {},
     "output_type": "execute_result"
    }
   ],
   "source": [
    "np.array_equal(pred_bw_img, lbl_bw_img)"
   ]
  }
 ],
 "metadata": {
  "kernelspec": {
   "display_name": "conda_python3",
   "language": "python",
   "name": "conda_python3"
  },
  "language_info": {
   "codemirror_mode": {
    "name": "ipython",
    "version": 3
   },
   "file_extension": ".py",
   "mimetype": "text/x-python",
   "name": "python",
   "nbconvert_exporter": "python",
   "pygments_lexer": "ipython3",
   "version": "3.6.5"
  }
 },
 "nbformat": 4,
 "nbformat_minor": 2
}
