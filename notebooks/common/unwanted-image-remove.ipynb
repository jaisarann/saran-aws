{
 "cells": [
  {
   "cell_type": "code",
   "execution_count": 6,
   "metadata": {},
   "outputs": [],
   "source": [
    "import pandas as pd\n",
    "import os"
   ]
  },
  {
   "cell_type": "code",
   "execution_count": 12,
   "metadata": {},
   "outputs": [
    {
     "data": {
      "text/html": [
       "<div>\n",
       "<style scoped>\n",
       "    .dataframe tbody tr th:only-of-type {\n",
       "        vertical-align: middle;\n",
       "    }\n",
       "\n",
       "    .dataframe tbody tr th {\n",
       "        vertical-align: top;\n",
       "    }\n",
       "\n",
       "    .dataframe thead th {\n",
       "        text-align: right;\n",
       "    }\n",
       "</style>\n",
       "<table border=\"1\" class=\"dataframe\">\n",
       "  <thead>\n",
       "    <tr style=\"text-align: right;\">\n",
       "      <th></th>\n",
       "    </tr>\n",
       "    <tr>\n",
       "      <th>image_name</th>\n",
       "    </tr>\n",
       "  </thead>\n",
       "  <tbody>\n",
       "    <tr>\n",
       "      <td>image_182.tif</td>\n",
       "    </tr>\n",
       "    <tr>\n",
       "      <td>image_207.tif</td>\n",
       "    </tr>\n",
       "    <tr>\n",
       "      <td>image_212.tif</td>\n",
       "    </tr>\n",
       "    <tr>\n",
       "      <td>image_217.tif</td>\n",
       "    </tr>\n",
       "    <tr>\n",
       "      <td>image_728.tif</td>\n",
       "    </tr>\n",
       "    <tr>\n",
       "      <td>...</td>\n",
       "    </tr>\n",
       "    <tr>\n",
       "      <td>image_16233.tif</td>\n",
       "    </tr>\n",
       "    <tr>\n",
       "      <td>image_16268.tif</td>\n",
       "    </tr>\n",
       "    <tr>\n",
       "      <td>image_16283.tif</td>\n",
       "    </tr>\n",
       "    <tr>\n",
       "      <td>image_17181.tif</td>\n",
       "    </tr>\n",
       "    <tr>\n",
       "      <td>image_17183.tif</td>\n",
       "    </tr>\n",
       "  </tbody>\n",
       "</table>\n",
       "<p>87 rows × 0 columns</p>\n",
       "</div>"
      ],
      "text/plain": [
       "Empty DataFrame\n",
       "Columns: []\n",
       "Index: [image_182.tif, image_207.tif, image_212.tif, image_217.tif, image_728.tif, image_738.tif, image_748.tif, image_758.tif, image_1501.tif, image_3763.tif, image_3903.tif, image_3904.tif, image_3906.tif, image_3957.tif, image_3929.tif, image_7131.tif, image_7136.tif, image_7161.tif, image_7176.tif, image_7181.tif, image_7186.tif, image_7191.tif, image_7196.tif, image_7665.tif, image_7670.tif, image_7675.tif, image_8040.tif, image_8050.tif, image_8065.tif, image_8075.tif, image_8080.tif, image_8130.tif, image_8135.tif, image_8140.tif, image_8195.tif, image_8199.tif, image_8204.tif, image_8209.tif, image_8504.tif, image_8509.tif, image_8514.tif, image_8519.tif, image_8524.tif, image_8529.tif, image_8534.tif, image_8539.tif, image_8544.tif, image_8549.tif, image_8554.tif, image_8564.tif, image_8569.tif, image_8584.tif, image_8599.tif, image_8609.tif, image_8614.tif, image_8619.tif, image_8654.tif, image_8684.tif, image_8689.tif, image_13753.tif, image_13755.tif, image_13757.tif, image_14186.tif, image_14188.tif, image_14190.tif, image_14561.tif, image_14571.tif, image_15045.tif, image_15050.tif, image_15075.tif, image_15090.tif, image_15095.tif, image_15100.tif, image_15105.tif, image_15110.tif, image_15115.tif, image_15657.tif, image_15682.tif, image_15687.tif, image_15692.tif, image_16213.tif, image_16223.tif, image_16233.tif, image_16268.tif, image_16283.tif, image_17181.tif, image_17183.tif]\n",
       "\n",
       "[87 rows x 0 columns]"
      ]
     },
     "execution_count": 12,
     "metadata": {},
     "output_type": "execute_result"
    }
   ],
   "source": [
    "delete_list_path = r'files-to-be-removed.csv'\n",
    "\n",
    "df = pd.read_csv(delete_list_path, index_col=['image_name'])\n",
    "df"
   ]
  },
  {
   "cell_type": "code",
   "execution_count": 26,
   "metadata": {},
   "outputs": [
    {
     "name": "stdout",
     "output_type": "stream",
     "text": [
      "total files removed 87\n"
     ]
    }
   ],
   "source": [
    "for idx, rw in enumerate(df.iterrows(), start=1):\n",
    "    #for Input folder file remove\n",
    "#     remove_file_path = r'/home/ec2-user/SageMaker/data/footprint/9k-images/input'\n",
    "    #file_to_be_removed = os.path.join(remove_file_path, rw[0])\n",
    "    \n",
    "    #for gt folder file remove \n",
    "    remove_file_path = r'/home/ec2-user/SageMaker/data/footprint/9k-images/gt_bw'\n",
    "    _, file_ext = os.path.split(rw[0])\n",
    "    file_to_be_removed = file_ext.split('.')[0] + '_gt.' + file_ext.split('.')[1]\n",
    "    file_to_be_removed = os.path.join(remove_file_path, file_to_be_removed)\n",
    "#     print(file_to_be_removed)\n",
    "    os.remove(file_to_be_removed)\n",
    "\n",
    "print('total files removed', idx)"
   ]
  },
  {
   "cell_type": "code",
   "execution_count": null,
   "metadata": {},
   "outputs": [],
   "source": []
  }
 ],
 "metadata": {
  "kernelspec": {
   "display_name": "conda_fastai",
   "language": "python",
   "name": "conda_fastai"
  },
  "language_info": {
   "codemirror_mode": {
    "name": "ipython",
    "version": 3
   },
   "file_extension": ".py",
   "mimetype": "text/x-python",
   "name": "python",
   "nbconvert_exporter": "python",
   "pygments_lexer": "ipython3",
   "version": "3.7.0"
  }
 },
 "nbformat": 4,
 "nbformat_minor": 2
}
