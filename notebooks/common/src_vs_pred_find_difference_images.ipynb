{
 "cells": [
  {
   "cell_type": "code",
   "execution_count": 34,
   "metadata": {},
   "outputs": [],
   "source": [
    "import os\n",
    "import numpy as np\n",
    "import shutil"
   ]
  },
  {
   "cell_type": "code",
   "execution_count": 5,
   "metadata": {},
   "outputs": [],
   "source": [
    "src_9831_img_path = '/home/ec2-user/SageMaker/data/footprint/9831_unet_rn34_train_images/input/'\n",
    "pred_9186_img_path = '/home/ec2-user/SageMaker/data/footprint/9831_unet_rn34_train_images/pred_result'"
   ]
  },
  {
   "cell_type": "code",
   "execution_count": 6,
   "metadata": {},
   "outputs": [],
   "source": [
    "#Find the diff img names"
   ]
  },
  {
   "cell_type": "code",
   "execution_count": 12,
   "metadata": {},
   "outputs": [],
   "source": [
    "get_files = lambda path : [file for file in os.listdir(path) if os.path.isfile(os.path.join(path, file))]"
   ]
  },
  {
   "cell_type": "code",
   "execution_count": 13,
   "metadata": {},
   "outputs": [
    {
     "data": {
      "text/plain": [
       "(['image_16037.tif',\n",
       "  'image_2486.tif',\n",
       "  'image_3681.tif',\n",
       "  'image_6874.tif',\n",
       "  'image_17885.tif'],\n",
       " 9831)"
      ]
     },
     "execution_count": 13,
     "metadata": {},
     "output_type": "execute_result"
    }
   ],
   "source": [
    "lst_9831_files = get_files(src_9831_img_path)\n",
    "lst_9831_files[:5], len(lst_9831_files)"
   ]
  },
  {
   "cell_type": "code",
   "execution_count": 14,
   "metadata": {},
   "outputs": [
    {
     "data": {
      "text/plain": [
       "(['image_427_pred_binary.png',\n",
       "  'image_12883_pred_binary.png',\n",
       "  'image_15359_pred_binary.png',\n",
       "  'image_3061_pred_binary.png',\n",
       "  'image_17290_pred_binary.png'],\n",
       " 9186)"
      ]
     },
     "execution_count": 14,
     "metadata": {},
     "output_type": "execute_result"
    }
   ],
   "source": [
    "lst_pred_9186_files = get_files(pred_9186_img_path)\n",
    "lst_pred_9186_files[:5], len(lst_pred_9186_files)"
   ]
  },
  {
   "cell_type": "markdown",
   "metadata": {},
   "source": [
    "### pred file names change according to source file names"
   ]
  },
  {
   "cell_type": "code",
   "execution_count": 27,
   "metadata": {},
   "outputs": [
    {
     "data": {
      "text/plain": [
       "(['image_427.tif',\n",
       "  'image_12883.tif',\n",
       "  'image_15359.tif',\n",
       "  'image_3061.tif',\n",
       "  'image_17290.tif'],\n",
       " 9186)"
      ]
     },
     "execution_count": 27,
     "metadata": {},
     "output_type": "execute_result"
    }
   ],
   "source": [
    "lst_pred_9186_files_2 = [file.replace('_pred_binary.png', '.tif') for file in lst_pred_9186_files]\n",
    "lst_pred_9186_files_2[:5], len(lst_pred_9186_formatted_files)"
   ]
  },
  {
   "cell_type": "markdown",
   "metadata": {},
   "source": [
    "### change files names into lower case"
   ]
  },
  {
   "cell_type": "code",
   "execution_count": 26,
   "metadata": {},
   "outputs": [
    {
     "data": {
      "text/plain": [
       "['image_16037.tif',\n",
       " 'image_2486.tif',\n",
       " 'image_3681.tif',\n",
       " 'image_6874.tif',\n",
       " 'image_17885.tif']"
      ]
     },
     "execution_count": 26,
     "metadata": {},
     "output_type": "execute_result"
    }
   ],
   "source": [
    "lst_9831_files_lower_case = list(map(lambda x: x.lower(), lst_9831_files))\n",
    "lst_9831_files_lower_case[:5]"
   ]
  },
  {
   "cell_type": "code",
   "execution_count": 28,
   "metadata": {},
   "outputs": [
    {
     "data": {
      "text/plain": [
       "['image_427.tif',\n",
       " 'image_12883.tif',\n",
       " 'image_15359.tif',\n",
       " 'image_3061.tif',\n",
       " 'image_17290.tif']"
      ]
     },
     "execution_count": 28,
     "metadata": {},
     "output_type": "execute_result"
    }
   ],
   "source": [
    "lst_pred_9186_files_2_lower_case = list(map(lambda x: x.lower(), lst_pred_9186_files_2))\n",
    "lst_pred_9186_files_2_lower_case[:5]"
   ]
  },
  {
   "cell_type": "markdown",
   "metadata": {},
   "source": [
    "### Identify the files which is not exist in lst_pred_9186 but exists in lst_9831"
   ]
  },
  {
   "cell_type": "code",
   "execution_count": 30,
   "metadata": {},
   "outputs": [
    {
     "data": {
      "text/plain": [
       "(645, array(['image_10002.tif', 'image_10007.tif', 'image_10015.tif',\n",
       "        'image_10018.tif', 'image_10037.tif'], dtype='<U15'))"
      ]
     },
     "execution_count": 30,
     "metadata": {},
     "output_type": "execute_result"
    }
   ],
   "source": [
    "lst_diff_files = np.setdiff1d(lst_9831_files_lower_case, lst_pred_9186_files_2_lower_case)\n",
    "len(lst_diff_files), lst_diff_files[:5]"
   ]
  },
  {
   "cell_type": "markdown",
   "metadata": {},
   "source": [
    "### Move the missed input images into separate folder\n",
    "\n"
   ]
  },
  {
   "cell_type": "code",
   "execution_count": 33,
   "metadata": {},
   "outputs": [],
   "source": [
    "target_folder = '/home/ec2-user/SageMaker/data/footprint/9831_unet_rn34_train_images/pred_missed_input'"
   ]
  },
  {
   "cell_type": "code",
   "execution_count": null,
   "metadata": {
    "scrolled": true
   },
   "outputs": [
    {
     "name": "stdout",
     "output_type": "stream",
     "text": [
      "copying 2\n",
      "copying 3\n",
      "copying 4\n",
      "copying 5\n",
      "copying 6\n",
      "copying 7\n",
      "copying 8\n",
      "copying 9\n",
      "copying 10\n",
      "copying 11\n",
      "copying 12\n",
      "copying 13\n",
      "copying 14\n",
      "copying 15\n",
      "copying 16\n",
      "copying 17\n",
      "copying 18\n",
      "copying 19\n",
      "copying 20\n",
      "copying 21\n",
      "copying 22\n",
      "copying 23\n",
      "copying 24\n",
      "copying 25\n",
      "copying 26\n",
      "copying 27\n",
      "copying 28\n",
      "copying 29\n",
      "copying 30\n",
      "copying 31\n",
      "copying 32\n",
      "copying 33\n",
      "copying 34\n",
      "copying 35\n",
      "copying 36\n",
      "copying 37\n",
      "copying 38\n",
      "copying 39\n",
      "copying 40\n",
      "copying 41\n",
      "copying 42\n",
      "copying 43\n",
      "copying 44\n",
      "copying 45\n",
      "copying 46\n",
      "copying 47\n",
      "copying 48\n",
      "copying 49\n",
      "copying 50\n",
      "copying 51\n",
      "copying 52\n",
      "copying 53\n",
      "copying 54\n",
      "copying 55\n",
      "copying 56\n",
      "copying 57\n",
      "copying 58\n",
      "copying 59\n",
      "copying 60\n",
      "copying 61\n",
      "copying 62\n",
      "copying 63\n",
      "copying 64\n",
      "copying 65\n",
      "copying 66\n",
      "copying 67\n",
      "copying 68\n",
      "copying 69\n",
      "copying 70\n",
      "copying 71\n",
      "copying 72\n",
      "copying 73\n",
      "copying 74\n",
      "copying 75\n",
      "copying 76\n",
      "copying 77\n",
      "copying 78\n",
      "copying 79\n",
      "copying 80\n",
      "copying 81\n",
      "copying 82\n",
      "copying 83\n",
      "copying 84\n",
      "copying 85\n",
      "copying 86\n",
      "copying 87\n",
      "copying 88\n",
      "copying 89\n",
      "copying 90\n",
      "copying 91\n",
      "copying 92\n",
      "copying 93\n",
      "copying 94\n",
      "copying 95\n",
      "copying 96\n",
      "copying 97\n",
      "copying 98\n",
      "copying 99\n",
      "copying 100\n",
      "copying 101\n",
      "copying 102\n",
      "copying 103\n",
      "copying 104\n",
      "copying 105\n",
      "copying 106\n",
      "copying 107\n",
      "copying 108\n",
      "copying 109\n",
      "copying 110\n",
      "copying 111\n",
      "copying 112\n",
      "copying 113\n",
      "copying 114\n",
      "copying 115\n",
      "copying 116\n",
      "copying 117\n",
      "copying 118\n",
      "copying 119\n",
      "copying 120\n",
      "copying 121\n",
      "copying 122\n",
      "copying 123\n",
      "copying 124\n",
      "copying 125\n",
      "copying 126\n",
      "copying 127\n",
      "copying 128\n",
      "copying 129\n",
      "copying 130\n",
      "copying 131\n",
      "copying 132\n",
      "copying 133\n",
      "copying 134\n",
      "copying 135\n",
      "copying 136\n",
      "copying 137\n",
      "copying 138\n",
      "copying 139\n",
      "copying 140\n",
      "copying 141\n",
      "copying 142\n",
      "copying 143\n",
      "copying 144\n",
      "copying 145\n",
      "copying 146\n",
      "copying 147\n",
      "copying 148\n",
      "copying 149\n",
      "copying 150\n",
      "copying 151\n",
      "copying 152\n",
      "copying 153\n",
      "copying 154\n",
      "copying 155\n",
      "copying 156\n",
      "copying 157\n",
      "copying 158\n",
      "copying 159\n",
      "copying 160\n",
      "copying 161\n",
      "copying 162\n",
      "copying 163\n",
      "copying 164\n",
      "copying 165\n",
      "copying 166\n",
      "copying 167\n",
      "copying 168\n",
      "copying 169\n",
      "copying 170\n",
      "copying 171\n",
      "copying 172\n",
      "copying 173\n",
      "copying 174\n",
      "copying 175\n",
      "copying 176\n",
      "copying 177\n",
      "copying 178\n",
      "copying 179\n",
      "copying 180\n",
      "copying 181\n",
      "copying 182\n",
      "copying 183\n",
      "copying 184\n",
      "copying 185\n",
      "copying 186\n",
      "copying 187\n",
      "copying 188\n",
      "copying 189\n",
      "copying 190\n",
      "copying 191\n",
      "copying 192\n",
      "copying 193\n",
      "copying 194\n",
      "copying 195\n",
      "copying 196\n",
      "copying 197\n",
      "copying 198\n",
      "copying 199\n",
      "copying 200\n",
      "copying 201\n",
      "copying 202\n",
      "copying 203\n",
      "copying 204\n",
      "copying 205\n",
      "copying 206\n",
      "copying 207\n",
      "copying 208\n",
      "copying 209\n",
      "copying 210\n",
      "copying 211\n",
      "copying 212\n",
      "copying 213\n",
      "copying 214\n",
      "copying 215\n",
      "copying 216\n",
      "copying 217\n",
      "copying 218\n",
      "copying 219\n",
      "copying 220\n",
      "copying 221\n",
      "copying 222\n",
      "copying 223\n",
      "copying 224\n",
      "copying 225\n",
      "copying 226\n",
      "copying 227\n",
      "copying 228\n",
      "copying 229\n",
      "copying 230\n",
      "copying 231\n",
      "copying 232\n",
      "copying 233\n",
      "copying 234\n",
      "copying 235\n",
      "copying 236\n",
      "copying 237\n",
      "copying 238\n",
      "copying 239\n",
      "copying 240\n",
      "copying 241\n",
      "copying 242\n",
      "copying 243\n",
      "copying 244\n",
      "copying 245\n",
      "copying 246\n",
      "copying 247\n",
      "copying 248\n",
      "copying 249\n",
      "copying 250\n",
      "copying 251\n",
      "copying 252\n",
      "copying 253\n",
      "copying 254\n",
      "copying 255\n",
      "copying 256\n",
      "copying 257\n",
      "copying 258\n",
      "copying 259\n",
      "copying 260\n",
      "copying 261\n",
      "copying 262\n",
      "copying 263\n",
      "copying 264\n",
      "copying 265\n",
      "copying 266\n",
      "copying 267\n",
      "copying 268\n",
      "copying 269\n",
      "copying 270\n",
      "copying 271\n",
      "copying 272\n"
     ]
    }
   ],
   "source": [
    "for idx, file in enumerate(lst_diff_files, start=1):\n",
    "    print('copying %s' % str(idx))\n",
    "    src_path = os.path.join(src_9831_img_path, file)\n",
    "    dest_path = os.path.join(target_folder, file)\n",
    "    #copy file\n",
    "    shutil.copyfile(src_path, dest_path)"
   ]
  },
  {
   "cell_type": "code",
   "execution_count": null,
   "metadata": {},
   "outputs": [],
   "source": []
  }
 ],
 "metadata": {
  "kernelspec": {
   "display_name": "conda_python3",
   "language": "python",
   "name": "conda_python3"
  },
  "language_info": {
   "codemirror_mode": {
    "name": "ipython",
    "version": 3
   },
   "file_extension": ".py",
   "mimetype": "text/x-python",
   "name": "python",
   "nbconvert_exporter": "python",
   "pygments_lexer": "ipython3",
   "version": "3.6.5"
  }
 },
 "nbformat": 4,
 "nbformat_minor": 2
}
